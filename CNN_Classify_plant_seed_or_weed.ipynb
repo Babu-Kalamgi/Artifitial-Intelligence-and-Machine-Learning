{
  "nbformat": 4,
  "nbformat_minor": 0,
  "metadata": {
    "colab": {
      "name": "R7-CNN-project1.ipynb",
      "version": "0.3.2",
      "provenance": []
    },
    "kernelspec": {
      "name": "python3",
      "display_name": "Python 3"
    },
    "accelerator": "GPU"
  },
  "cells": [
    {
      "metadata": {
        "id": "fyJcWd4uPdhX",
        "colab_type": "code",
        "outputId": "0cf6a2ea-722a-4941-fe40-c4beaa75fc51",
        "colab": {
          "base_uri": "https://localhost:8080/",
          "height": 122
        }
      },
      "cell_type": "code",
      "source": [
        "import tensorflow as tf\n",
        "from google.colab import drive\n",
        "drive.mount(\"/content/drive\")\n",
        "\n",
        "project_path = \"/content/drive/My Drive/AI - Deep Learning/CNN - Project 1 - R7/\"\n",
        "\n"
      ],
      "execution_count": 8,
      "outputs": [
        {
          "output_type": "stream",
          "text": [
            "Go to this URL in a browser: https://accounts.google.com/o/oauth2/auth?client_id=947318989803-6bn6qk8qdgf4n4g3pfee6491hc0brc4i.apps.googleusercontent.com&redirect_uri=urn%3Aietf%3Awg%3Aoauth%3A2.0%3Aoob&scope=email%20https%3A%2F%2Fwww.googleapis.com%2Fauth%2Fdocs.test%20https%3A%2F%2Fwww.googleapis.com%2Fauth%2Fdrive%20https%3A%2F%2Fwww.googleapis.com%2Fauth%2Fdrive.photos.readonly%20https%3A%2F%2Fwww.googleapis.com%2Fauth%2Fpeopleapi.readonly&response_type=code\n",
            "\n",
            "Enter your authorization code:\n",
            "··········\n",
            "Mounted at /content/drive\n"
          ],
          "name": "stdout"
        }
      ]
    },
    {
      "metadata": {
        "id": "k6OhvbYYSKvJ",
        "colab_type": "code",
        "outputId": "a65dc1e9-1f5e-4d20-c3ac-1ad0418a9f64",
        "colab": {
          "base_uri": "https://localhost:8080/",
          "height": 34
        }
      },
      "cell_type": "code",
      "source": [
        "# Read the Dataset\n",
        "import zipfile as zf\n",
        "train_zip = zf.ZipFile(project_path+'plant-seedlings-classification.zip')\n",
        "train_zip.extractall()\n",
        "!ls"
      ],
      "execution_count": 9,
      "outputs": [
        {
          "output_type": "stream",
          "text": [
            "drive  sample_data  sample_submission.csv  test.zip  train.zip\n"
          ],
          "name": "stdout"
        }
      ]
    },
    {
      "metadata": {
        "id": "WQMre77mtfxB",
        "colab_type": "code",
        "outputId": "fe5e468f-6cbd-4295-a183-e883c394ac33",
        "colab": {
          "base_uri": "https://localhost:8080/",
          "height": 34
        }
      },
      "cell_type": "code",
      "source": [
        "train_zip = zf.ZipFile('train.zip')\n",
        "train_zip.extractall()\n",
        "test_zip = zf.ZipFile('test.zip')\n",
        "test_zip.extractall()\n",
        "!ls"
      ],
      "execution_count": 10,
      "outputs": [
        {
          "output_type": "stream",
          "text": [
            "drive  sample_data  sample_submission.csv  test  test.zip  train  train.zip\n"
          ],
          "name": "stdout"
        }
      ]
    },
    {
      "metadata": {
        "id": "4SMKLCZjvK4H",
        "colab_type": "code",
        "outputId": "0a2727b4-d52e-4d36-ee52-ec2cd2e70dbc",
        "colab": {
          "base_uri": "https://localhost:8080/",
          "height": 85
        }
      },
      "cell_type": "code",
      "source": [
        "!ls train"
      ],
      "execution_count": 18,
      "outputs": [
        {
          "output_type": "stream",
          "text": [
            " Black-grass\t    'Common wheat'\t'Scentless Mayweed'\n",
            " Charlock\t    'Fat Hen'\t\t'Shepherds Purse'\n",
            " Cleavers\t    'Loose Silky-bent'\t'Small-flowered Cranesbill'\n",
            "'Common Chickweed'   Maize\t\t'Sugar beet'\n"
          ],
          "name": "stdout"
        }
      ]
    },
    {
      "metadata": {
        "colab_type": "code",
        "id": "2Ta1XKa-IyCQ",
        "colab": {}
      },
      "cell_type": "code",
      "source": [
        "#list of useful imports that  I will use\n",
        "import os\n",
        "\n",
        "import cv2\n",
        "import numpy as np\n",
        "from glob import glob"
      ],
      "execution_count": 0,
      "outputs": []
    },
    {
      "metadata": {
        "id": "NRhJ9tnhvboy",
        "colab_type": "code",
        "colab": {}
      },
      "cell_type": "code",
      "source": [
        "train_folder = \"train\"\n",
        "\n",
        "train_images = []\n",
        "classes=[]\n",
        "missing=0\n",
        "for class_folder_name in os.listdir(train_folder):\n",
        "    class_folder_path = os.path.join(train_folder, class_folder_name)\n",
        "    class_label = class_folder_name\n",
        "    \n",
        "    for image_path in glob(os.path.join(class_folder_path, \"*.png\")):\n",
        "        image_bgr = cv2.imread(image_path, cv2.IMREAD_COLOR)\n",
        "        if image_bgr is None:\n",
        "          missing += 1\n",
        "          continue\n",
        "        train_images.append(image_bgr)\n",
        "        \n",
        "        classes.append(class_label)"
      ],
      "execution_count": 0,
      "outputs": []
    },
    {
      "metadata": {
        "id": "gXrR2nA-v6KX",
        "colab_type": "code",
        "outputId": "fb9ccc04-6ced-4699-aa3a-aa76bdcf84e7",
        "colab": {
          "base_uri": "https://localhost:8080/",
          "height": 34
        }
      },
      "cell_type": "code",
      "source": [
        "len(train_images)"
      ],
      "execution_count": 28,
      "outputs": [
        {
          "output_type": "execute_result",
          "data": {
            "text/plain": [
              "4750"
            ]
          },
          "metadata": {
            "tags": []
          },
          "execution_count": 28
        }
      ]
    },
    {
      "metadata": {
        "id": "BJN-bt2pwKiB",
        "colab_type": "code",
        "colab": {}
      },
      "cell_type": "code",
      "source": [
        "def resize_images(img):\n",
        "\n",
        "  img = np.array(img).astype(np.uint8)\n",
        "  res = cv2.resize(img,(128,128), interpolation = cv2.INTER_CUBIC)\n",
        "  return res"
      ],
      "execution_count": 0,
      "outputs": []
    },
    {
      "metadata": {
        "id": "aXL_MTRfwQcU",
        "colab_type": "code",
        "colab": {}
      },
      "cell_type": "code",
      "source": [
        "#save resized images into images.\n",
        "train_images = [resize_images(img) for img in train_images]"
      ],
      "execution_count": 0,
      "outputs": []
    },
    {
      "metadata": {
        "id": "9XaoTUfOwUec",
        "colab_type": "code",
        "outputId": "9c63b4ec-0aed-4373-cdeb-be9e96c7509a",
        "colab": {
          "base_uri": "https://localhost:8080/",
          "height": 34
        }
      },
      "cell_type": "code",
      "source": [
        "train_images[0].shape"
      ],
      "execution_count": 31,
      "outputs": [
        {
          "output_type": "execute_result",
          "data": {
            "text/plain": [
              "(128, 128, 3)"
            ]
          },
          "metadata": {
            "tags": []
          },
          "execution_count": 31
        }
      ]
    },
    {
      "metadata": {
        "id": "-UIRsUNIL0qN",
        "colab_type": "code",
        "colab": {
          "base_uri": "https://localhost:8080/",
          "height": 34
        },
        "outputId": "0c27ef46-559a-4344-f2bd-ee96d3c94884"
      },
      "cell_type": "code",
      "source": [
        "len(train_images)"
      ],
      "execution_count": 37,
      "outputs": [
        {
          "output_type": "execute_result",
          "data": {
            "text/plain": [
              "4750"
            ]
          },
          "metadata": {
            "tags": []
          },
          "execution_count": 37
        }
      ]
    },
    {
      "metadata": {
        "id": "seE5CF2kJmMC",
        "colab_type": "code",
        "colab": {}
      },
      "cell_type": "code",
      "source": [
        "test_folder = \"test\"\n",
        "\n",
        "test_images = []\n",
        "missing=0\n",
        "# for image_path in os.listdir(test_folder):\n",
        "#     class_folder_path = os.path.join(train_folder, class_folder_name)\n",
        "    \n",
        "for image_path in glob(os.path.join(test_folder, \"*.png\")):\n",
        "    image_bgr = cv2.imread(image_path, cv2.IMREAD_COLOR)\n",
        "    if image_bgr is None:\n",
        "      missing += 1\n",
        "      continue\n",
        "    test_images.append(image_bgr)"
      ],
      "execution_count": 0,
      "outputs": []
    },
    {
      "metadata": {
        "id": "6C1QEjfuLelm",
        "colab_type": "code",
        "colab": {}
      },
      "cell_type": "code",
      "source": [
        "test_images = [resize_images(img) for img in test_images]"
      ],
      "execution_count": 0,
      "outputs": []
    },
    {
      "metadata": {
        "id": "NPjqprWRLmyg",
        "colab_type": "code",
        "colab": {
          "base_uri": "https://localhost:8080/",
          "height": 34
        },
        "outputId": "69e905f3-2606-4dab-ad26-6c111463d409"
      },
      "cell_type": "code",
      "source": [
        "test_images[0].shape"
      ],
      "execution_count": 34,
      "outputs": [
        {
          "output_type": "execute_result",
          "data": {
            "text/plain": [
              "(128, 128, 3)"
            ]
          },
          "metadata": {
            "tags": []
          },
          "execution_count": 34
        }
      ]
    },
    {
      "metadata": {
        "id": "3lixDsPRLs2f",
        "colab_type": "code",
        "colab": {
          "base_uri": "https://localhost:8080/",
          "height": 34
        },
        "outputId": "83d7f7df-62e9-446f-9d91-7ad24acc2c25"
      },
      "cell_type": "code",
      "source": [
        "len(test_images)"
      ],
      "execution_count": 36,
      "outputs": [
        {
          "output_type": "execute_result",
          "data": {
            "text/plain": [
              "794"
            ]
          },
          "metadata": {
            "tags": []
          },
          "execution_count": 36
        }
      ]
    },
    {
      "metadata": {
        "id": "Ky11cEn3ME4U",
        "colab_type": "code",
        "colab": {}
      },
      "cell_type": "code",
      "source": [
        "import pandas as pd\n",
        "dum = pd.get_dummies(classes)"
      ],
      "execution_count": 0,
      "outputs": []
    },
    {
      "metadata": {
        "id": "-8GlU8nGMzdV",
        "colab_type": "code",
        "colab": {}
      },
      "cell_type": "code",
      "source": [
        "encoded_labels = dum\n",
        "y_train = dum"
      ],
      "execution_count": 0,
      "outputs": []
    },
    {
      "metadata": {
        "id": "uFtWX7_HM9un",
        "colab_type": "code",
        "colab": {}
      },
      "cell_type": "code",
      "source": [
        "import numpy as np\n",
        "y_train = np.array(y_train)"
      ],
      "execution_count": 0,
      "outputs": []
    },
    {
      "metadata": {
        "id": "G834c_sXNDY_",
        "colab_type": "code",
        "colab": {
          "base_uri": "https://localhost:8080/",
          "height": 34
        },
        "outputId": "fab662e1-7397-472c-ba7f-d24f687d8f31"
      },
      "cell_type": "code",
      "source": [
        "x_train = train_images\n",
        "x_train = np.array(x_train)\n",
        "x_train[0].shape"
      ],
      "execution_count": 42,
      "outputs": [
        {
          "output_type": "execute_result",
          "data": {
            "text/plain": [
              "(128, 128, 3)"
            ]
          },
          "metadata": {
            "tags": []
          },
          "execution_count": 42
        }
      ]
    },
    {
      "metadata": {
        "id": "mYFIAlsNNd_h",
        "colab_type": "code",
        "colab": {
          "base_uri": "https://localhost:8080/",
          "height": 51
        },
        "outputId": "36bee29c-ebb4-4cf1-e3f6-fa9f165096a2"
      },
      "cell_type": "code",
      "source": [
        "from sklearn.model_selection import train_test_split\n",
        "x_train2, x_val, y_train2, y_val = train_test_split(x_train, y_train, test_size=0.2, random_state=2)\n",
        "print (len(x_train2))\n",
        "print (len(x_val))"
      ],
      "execution_count": 43,
      "outputs": [
        {
          "output_type": "stream",
          "text": [
            "3800\n",
            "950\n"
          ],
          "name": "stdout"
        }
      ]
    },
    {
      "metadata": {
        "id": "Ygt8FLtrNo8R",
        "colab_type": "code",
        "colab": {
          "base_uri": "https://localhost:8080/",
          "height": 34
        },
        "outputId": "483c136b-7ba1-40e1-b827-2e7cedd0f389"
      },
      "cell_type": "code",
      "source": [
        "x_train2[0].shape"
      ],
      "execution_count": 44,
      "outputs": [
        {
          "output_type": "execute_result",
          "data": {
            "text/plain": [
              "(128, 128, 3)"
            ]
          },
          "metadata": {
            "tags": []
          },
          "execution_count": 44
        }
      ]
    },
    {
      "metadata": {
        "id": "eglsNV5JNsFb",
        "colab_type": "code",
        "colab": {}
      },
      "cell_type": "code",
      "source": [
        "x_train2 = x_train2.reshape(x_train2.shape[0],128,128,3)"
      ],
      "execution_count": 0,
      "outputs": []
    },
    {
      "metadata": {
        "id": "MdMUoXFHNxQr",
        "colab_type": "code",
        "colab": {}
      },
      "cell_type": "code",
      "source": [
        "x_val = x_val.reshape(x_val.shape[0],128,128,3)"
      ],
      "execution_count": 0,
      "outputs": []
    },
    {
      "metadata": {
        "id": "G70AreiVN2r1",
        "colab_type": "code",
        "colab": {
          "base_uri": "https://localhost:8080/",
          "height": 51
        },
        "outputId": "a8d17a9e-ac65-4f1b-b4a1-008d7079e960"
      },
      "cell_type": "code",
      "source": [
        "print (x_train2.shape)\n",
        "print (x_val.shape)"
      ],
      "execution_count": 47,
      "outputs": [
        {
          "output_type": "stream",
          "text": [
            "(3800, 128, 128, 3)\n",
            "(950, 128, 128, 3)\n"
          ],
          "name": "stdout"
        }
      ]
    },
    {
      "metadata": {
        "id": "bpDOh1hZN6vF",
        "colab_type": "code",
        "colab": {
          "base_uri": "https://localhost:8080/",
          "height": 51
        },
        "outputId": "36d2745b-7ccb-49c5-ecd2-40a8ba7fdc0c"
      },
      "cell_type": "code",
      "source": [
        "print(y_train2.shape)\n",
        "print(y_val.shape)"
      ],
      "execution_count": 48,
      "outputs": [
        {
          "output_type": "stream",
          "text": [
            "(3800, 12)\n",
            "(950, 12)\n"
          ],
          "name": "stdout"
        }
      ]
    },
    {
      "metadata": {
        "id": "Ac7Nyg_vN_rt",
        "colab_type": "code",
        "colab": {
          "base_uri": "https://localhost:8080/",
          "height": 34
        },
        "outputId": "7f2a9554-d9e5-4ffc-fe1a-3508e37ee66d"
      },
      "cell_type": "code",
      "source": [
        "from keras.models import Sequential\n",
        "from keras.layers import Convolution2D, Dropout, Dense\n",
        "from keras.layers import BatchNormalization\n",
        "from keras.layers import MaxPooling2D\n",
        "from keras.layers import Flatten\n",
        "from keras.optimizers import adam"
      ],
      "execution_count": 49,
      "outputs": [
        {
          "output_type": "stream",
          "text": [
            "Using TensorFlow backend.\n"
          ],
          "name": "stderr"
        }
      ]
    },
    {
      "metadata": {
        "id": "Ws-ozOfNOK-L",
        "colab_type": "code",
        "colab": {}
      },
      "cell_type": "code",
      "source": [
        "model = Sequential()\n",
        "model.add(BatchNormalization(input_shape = (128,128,3)))\n",
        "model.add(Convolution2D(32, (3,3), activation ='relu', input_shape = (128, 128, 3))) \n",
        "model.add(MaxPooling2D(pool_size=2))\n",
        "\n",
        "model.add(Convolution2D(filters=64, kernel_size=4, padding='same', activation='relu'))\n",
        "model.add(MaxPooling2D(pool_size=2))\n",
        "\n",
        "model.add(Convolution2D(filters=128, kernel_size=3, padding='same', activation='relu'))\n",
        "model.add(MaxPooling2D(pool_size=2))\n",
        "\n",
        "model.add(Convolution2D(filters=128, kernel_size=2, padding='same', activation='relu'))\n",
        "model.add(MaxPooling2D(pool_size=2))\n",
        "\n",
        "model.add(Flatten()) \n",
        "\n",
        "# fully connected layer\n",
        "model.add(Dense(units=128,activation = 'relu'))\n",
        "model.add(Dense(units = 64, activation = 'relu'))\n",
        "model.add(Dense(units = 32, activation = 'relu'))\n",
        "model.add(Dense(units = 12, activation = 'softmax')) "
      ],
      "execution_count": 0,
      "outputs": []
    },
    {
      "metadata": {
        "id": "XsHEbIaUOcB7",
        "colab_type": "code",
        "colab": {}
      },
      "cell_type": "code",
      "source": [
        "optimizer = adam(lr=0.001)\n",
        "model.compile(optimizer='adam', loss = 'categorical_crossentropy',metrics = ['accuracy'])"
      ],
      "execution_count": 0,
      "outputs": []
    },
    {
      "metadata": {
        "id": "EQJDa6UTOfl4",
        "colab_type": "code",
        "colab": {
          "base_uri": "https://localhost:8080/",
          "height": 612
        },
        "outputId": "02363830-6e7a-4050-8c37-561286de87aa"
      },
      "cell_type": "code",
      "source": [
        "model.summary()"
      ],
      "execution_count": 57,
      "outputs": [
        {
          "output_type": "stream",
          "text": [
            "_________________________________________________________________\n",
            "Layer (type)                 Output Shape              Param #   \n",
            "=================================================================\n",
            "batch_normalization_2 (Batch (None, 128, 128, 3)       12        \n",
            "_________________________________________________________________\n",
            "conv2d_5 (Conv2D)            (None, 126, 126, 32)      896       \n",
            "_________________________________________________________________\n",
            "max_pooling2d_5 (MaxPooling2 (None, 63, 63, 32)        0         \n",
            "_________________________________________________________________\n",
            "conv2d_6 (Conv2D)            (None, 63, 63, 64)        32832     \n",
            "_________________________________________________________________\n",
            "max_pooling2d_6 (MaxPooling2 (None, 31, 31, 64)        0         \n",
            "_________________________________________________________________\n",
            "conv2d_7 (Conv2D)            (None, 31, 31, 128)       73856     \n",
            "_________________________________________________________________\n",
            "max_pooling2d_7 (MaxPooling2 (None, 15, 15, 128)       0         \n",
            "_________________________________________________________________\n",
            "conv2d_8 (Conv2D)            (None, 15, 15, 128)       65664     \n",
            "_________________________________________________________________\n",
            "max_pooling2d_8 (MaxPooling2 (None, 7, 7, 128)         0         \n",
            "_________________________________________________________________\n",
            "flatten_2 (Flatten)          (None, 6272)              0         \n",
            "_________________________________________________________________\n",
            "dense_5 (Dense)              (None, 128)               802944    \n",
            "_________________________________________________________________\n",
            "dense_6 (Dense)              (None, 64)                8256      \n",
            "_________________________________________________________________\n",
            "dense_7 (Dense)              (None, 32)                2080      \n",
            "_________________________________________________________________\n",
            "dense_8 (Dense)              (None, 12)                396       \n",
            "=================================================================\n",
            "Total params: 986,936\n",
            "Trainable params: 986,930\n",
            "Non-trainable params: 6\n",
            "_________________________________________________________________\n"
          ],
          "name": "stdout"
        }
      ]
    },
    {
      "metadata": {
        "id": "n_rt0P8IOmWY",
        "colab_type": "code",
        "colab": {
          "base_uri": "https://localhost:8080/",
          "height": 884
        },
        "outputId": "d241a170-1c46-47dc-d872-525dc49af435"
      },
      "cell_type": "code",
      "source": [
        "batch_size = 64\n",
        "nb_epochs = 10\n",
        "history = model.fit(x_train, y_train, epochs = 25, validation_data = (x_val,y_val),batch_size = batch_size, verbose = 1, initial_epoch=0)"
      ],
      "execution_count": 59,
      "outputs": [
        {
          "output_type": "stream",
          "text": [
            "Train on 4750 samples, validate on 950 samples\n",
            "Epoch 1/25\n",
            "4750/4750 [==============================] - 8s 2ms/step - loss: 0.0751 - acc: 0.9731 - val_loss: 0.0458 - val_acc: 0.9853\n",
            "Epoch 2/25\n",
            "4750/4750 [==============================] - 8s 2ms/step - loss: 0.0629 - acc: 0.9768 - val_loss: 0.0397 - val_acc: 0.9874\n",
            "Epoch 3/25\n",
            "4750/4750 [==============================] - 8s 2ms/step - loss: 0.0546 - acc: 0.9815 - val_loss: 0.0375 - val_acc: 0.9905\n",
            "Epoch 4/25\n",
            "4750/4750 [==============================] - 8s 2ms/step - loss: 0.0472 - acc: 0.9842 - val_loss: 0.0262 - val_acc: 0.9947\n",
            "Epoch 5/25\n",
            "4750/4750 [==============================] - 8s 2ms/step - loss: 0.0899 - acc: 0.9672 - val_loss: 0.0747 - val_acc: 0.9737\n",
            "Epoch 6/25\n",
            "4750/4750 [==============================] - 8s 2ms/step - loss: 0.0648 - acc: 0.9785 - val_loss: 0.0312 - val_acc: 0.9884\n",
            "Epoch 7/25\n",
            "4750/4750 [==============================] - 8s 2ms/step - loss: 0.0446 - acc: 0.9844 - val_loss: 0.0391 - val_acc: 0.9874\n",
            "Epoch 8/25\n",
            "4750/4750 [==============================] - 8s 2ms/step - loss: 0.0795 - acc: 0.9728 - val_loss: 0.0320 - val_acc: 0.9916\n",
            "Epoch 9/25\n",
            "4750/4750 [==============================] - 8s 2ms/step - loss: 0.0597 - acc: 0.9798 - val_loss: 0.0217 - val_acc: 0.9958\n",
            "Epoch 10/25\n",
            "4750/4750 [==============================] - 8s 2ms/step - loss: 0.0481 - acc: 0.9842 - val_loss: 0.0214 - val_acc: 0.9937\n",
            "Epoch 11/25\n",
            "4750/4750 [==============================] - 8s 2ms/step - loss: 0.0388 - acc: 0.9874 - val_loss: 0.0157 - val_acc: 0.9968\n",
            "Epoch 12/25\n",
            "4750/4750 [==============================] - 8s 2ms/step - loss: 0.0112 - acc: 0.9964 - val_loss: 0.0083 - val_acc: 0.9989\n",
            "Epoch 13/25\n",
            "4750/4750 [==============================] - 8s 2ms/step - loss: 0.0044 - acc: 0.9994 - val_loss: 0.0027 - val_acc: 0.9989\n",
            "Epoch 14/25\n",
            "4750/4750 [==============================] - 8s 2ms/step - loss: 0.0039 - acc: 0.9987 - val_loss: 0.0291 - val_acc: 0.9884\n",
            "Epoch 15/25\n",
            "4750/4750 [==============================] - 8s 2ms/step - loss: 0.0788 - acc: 0.9737 - val_loss: 0.0462 - val_acc: 0.9821\n",
            "Epoch 16/25\n",
            "4750/4750 [==============================] - 8s 2ms/step - loss: 0.1274 - acc: 0.9653 - val_loss: 0.0661 - val_acc: 0.9747\n",
            "Epoch 17/25\n",
            "4750/4750 [==============================] - 8s 2ms/step - loss: 0.0431 - acc: 0.9869 - val_loss: 0.0080 - val_acc: 0.9989\n",
            "Epoch 18/25\n",
            "4750/4750 [==============================] - 8s 2ms/step - loss: 0.0260 - acc: 0.9912 - val_loss: 0.0211 - val_acc: 0.9937\n",
            "Epoch 19/25\n",
            "4750/4750 [==============================] - 8s 2ms/step - loss: 0.0143 - acc: 0.9956 - val_loss: 0.0076 - val_acc: 0.9958\n",
            "Epoch 20/25\n",
            "4750/4750 [==============================] - 8s 2ms/step - loss: 0.0028 - acc: 0.9998 - val_loss: 0.0017 - val_acc: 1.0000\n",
            "Epoch 21/25\n",
            "4750/4750 [==============================] - 8s 2ms/step - loss: 0.0011 - acc: 1.0000 - val_loss: 6.5277e-04 - val_acc: 1.0000\n",
            "Epoch 22/25\n",
            "4750/4750 [==============================] - 8s 2ms/step - loss: 5.9207e-04 - acc: 1.0000 - val_loss: 0.0013 - val_acc: 1.0000\n",
            "Epoch 23/25\n",
            "4750/4750 [==============================] - 8s 2ms/step - loss: 0.0010 - acc: 1.0000 - val_loss: 5.0450e-04 - val_acc: 1.0000\n",
            "Epoch 24/25\n",
            "4750/4750 [==============================] - 8s 2ms/step - loss: 3.4327e-04 - acc: 1.0000 - val_loss: 3.7364e-04 - val_acc: 1.0000\n",
            "Epoch 25/25\n",
            "4750/4750 [==============================] - 8s 2ms/step - loss: 3.1305e-04 - acc: 1.0000 - val_loss: 3.2511e-04 - val_acc: 1.0000\n"
          ],
          "name": "stdout"
        }
      ]
    },
    {
      "metadata": {
        "id": "DjPK6HrTQfKQ",
        "colab_type": "code",
        "colab": {
          "base_uri": "https://localhost:8080/",
          "height": 51
        },
        "outputId": "a0c05a3a-b173-4982-946f-06f4502d0d16"
      },
      "cell_type": "code",
      "source": [
        "score = model.evaluate(x_val, y_val, verbose=0, batch_size = 38)\n",
        "print('Test loss:', score[0])\n",
        "print('Test accuracy:', score[1])"
      ],
      "execution_count": 61,
      "outputs": [
        {
          "output_type": "stream",
          "text": [
            "Test loss: 0.00032510888340766544\n",
            "Test accuracy: 1.0\n"
          ],
          "name": "stdout"
        }
      ]
    }
  ]
}