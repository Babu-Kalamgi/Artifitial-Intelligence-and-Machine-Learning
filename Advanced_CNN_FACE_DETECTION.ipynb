{
  "nbformat": 4,
  "nbformat_minor": 0,
  "metadata": {
    "colab": {
      "name": "FACE_DETECTION_Questions(1).ipynb",
      "provenance": [],
      "collapsed_sections": []
    },
    "kernelspec": {
      "name": "python3",
      "display_name": "Python 3"
    },
    "accelerator": "GPU"
  },
  "cells": [
    {
      "cell_type": "markdown",
      "metadata": {
        "id": "IgJNvpw9SnZq",
        "colab_type": "text"
      },
      "source": [
        "#### use \"Transfer Learning\" of an Object Detector model to detect any object according to the problem in hand.\n",
        "\n",
        "Here, We are particularly interested in detecting faces in a given image.\n"
      ]
    },
    {
      "cell_type": "code",
      "metadata": {
        "id": "ltF-zciObyY-",
        "colab_type": "code",
        "outputId": "e730bfd4-9cc5-4f06-ce88-049f059ea768",
        "colab": {
          "base_uri": "https://localhost:8080/",
          "height": 313
        }
      },
      "source": [
        "#!pip install numpy==1.16.2"
      ],
      "execution_count": 0,
      "outputs": [
        {
          "output_type": "stream",
          "text": [
            "Collecting numpy==1.16.2\n",
            "\u001b[?25l  Downloading https://files.pythonhosted.org/packages/35/d5/4f8410ac303e690144f0a0603c4b8fd3b986feb2749c435f7cdbb288f17e/numpy-1.16.2-cp36-cp36m-manylinux1_x86_64.whl (17.3MB)\n",
            "\u001b[K     |████████████████████████████████| 17.3MB 4.9MB/s \n",
            "\u001b[31mERROR: datascience 0.10.6 has requirement folium==0.2.1, but you'll have folium 0.8.3 which is incompatible.\u001b[0m\n",
            "\u001b[31mERROR: albumentations 0.1.12 has requirement imgaug<0.2.7,>=0.2.5, but you'll have imgaug 0.2.9 which is incompatible.\u001b[0m\n",
            "\u001b[?25hInstalling collected packages: numpy\n",
            "  Found existing installation: numpy 1.16.3\n",
            "    Uninstalling numpy-1.16.3:\n",
            "      Successfully uninstalled numpy-1.16.3\n",
            "Successfully installed numpy-1.16.2\n"
          ],
          "name": "stdout"
        },
        {
          "output_type": "display_data",
          "data": {
            "application/vnd.colab-display-data+json": {
              "pip_warning": {
                "packages": [
                  "numpy"
                ]
              }
            }
          },
          "metadata": {
            "tags": []
          }
        }
      ]
    },
    {
      "cell_type": "markdown",
      "metadata": {
        "id": "HtnH8CujQfxM",
        "colab_type": "text"
      },
      "source": [
        "### Import MobileNet model given in file `mn_model.py`"
      ]
    },
    {
      "cell_type": "code",
      "metadata": {
        "id": "FtnDz1qkQESM",
        "colab_type": "code",
        "outputId": "71af491e-e7ac-44c7-fcdf-80f1e782f799",
        "colab": {
          "base_uri": "https://localhost:8080/",
          "height": 36
        }
      },
      "source": [
        "### Import MobileNet model given in file `mn_model.py`\n",
        "\n",
        "from mn_model import mn_model"
      ],
      "execution_count": 0,
      "outputs": [
        {
          "output_type": "stream",
          "text": [
            "Using TensorFlow backend.\n"
          ],
          "name": "stderr"
        }
      ]
    },
    {
      "cell_type": "markdown",
      "metadata": {
        "id": "dwNy4u8zQk1H",
        "colab_type": "text"
      },
      "source": [
        "### Import the BatchGenerator and SSDLoss functions in given files `face_generator.py`, `keras_ssd_loss` and `ssd_box_encode_decode_utils.py` as well, used in MobileNet model"
      ]
    },
    {
      "cell_type": "code",
      "metadata": {
        "id": "3gVMOicwQlg_",
        "colab_type": "code",
        "colab": {}
      },
      "source": [
        "#### Import the BatchGenerator and SSDLoss functions as well, used in MobileNet model\n",
        "\n",
        "from face_generator import BatchGenerator\n",
        "from keras_ssd_loss import SSDLoss\n",
        "from ssd_box_encode_decode_utils import SSDBoxEncoder, decode_y, decode_y2"
      ],
      "execution_count": 0,
      "outputs": []
    },
    {
      "cell_type": "code",
      "metadata": {
        "id": "tkzbMq9UeuCM",
        "colab_type": "code",
        "colab": {}
      },
      "source": [
        "\n",
        "import warnings\n",
        "warnings.filterwarnings(\"ignore\")\n",
        "\n",
        "from keras.optimizers import Adam, SGD, Nadam\n",
        "from keras.callbacks import ModelCheckpoint, EarlyStopping, ReduceLROnPlateau, TensorBoard, LearningRateScheduler\n",
        "from keras.callbacks import Callback\n",
        "from keras import backend as K \n",
        "from keras.models import load_model\n",
        "from math import ceil \n",
        "import numpy as np \n",
        "from termcolor import colored\n",
        "\n",
        "from mn_model import mn_model\n",
        "from face_generator import BatchGenerator\n",
        "from keras_ssd_loss import SSDLoss\n",
        "from ssd_box_encode_decode_utils import SSDBoxEncoder, decode_y, decode_y2\n",
        "\n",
        "# training parameters\n",
        "from keras import backend as K\n",
        "import scipy.misc as sm\n"
      ],
      "execution_count": 0,
      "outputs": []
    },
    {
      "cell_type": "markdown",
      "metadata": {
        "id": "UqyWOSGJRB18",
        "colab_type": "text"
      },
      "source": [
        "## Set the parameters for the model\n",
        "\n",
        "#### We need to customize the model parameters according to our problem as given below.\n",
        "\n",
        "#### Set n_classes (no.of classes) = 2, as we are interested in only face detection. \n",
        "#### `Face` will be one class and everything else comes under other class (we can call it as `background`)\n",
        "\n",
        "#### Set class_names = [\"background\", \"face\"]"
      ]
    },
    {
      "cell_type": "code",
      "metadata": {
        "id": "bcoBM5wlfHgZ",
        "colab_type": "code",
        "colab": {}
      },
      "source": [
        "img_height =512\n",
        "img_width = 512\n",
        "\n",
        "img_channels = 3\n",
        "\n",
        "n_classes =2 \n",
        "class_names = [\"background\",\"face\"]\n",
        "\n",
        "scales = [0.07, 0.15, 0.33, 0.51, 0.69, 0.87, 1.05] # anchorboxes for coco dataset\n",
        "aspect_ratios = [[0.5, 1.0, 2.0],\n",
        "                 [1.0/3.0, 0.5, 1.0, 2.0, 3.0],\n",
        "                 [1.0/3.0, 0.5, 1.0, 2.0, 3.0],\n",
        "                 [1.0/3.0, 0.5, 1.0, 2.0, 3.0],\n",
        "                 [0.5, 1.0, 2.0],\n",
        "                 [0.5, 1.0, 2.0]] # The anchor box aspect ratios used in the original SSD300\n",
        "two_boxes_for_ar1 = True\n",
        "limit_boxes = True # Whether or not you want to limit the anchor boxes to lie entirely within the image boundaries\n",
        "variances = [0.1, 0.1, 0.2, 0.2] # The variances by which the encoded target coordinates are scaled as in the original implementation\n",
        "coords = 'centroids' # Whether the box coordinates to be used as targets for the model should be in the 'centroids' or 'minmax' format, see documentation\n",
        "normalize_coords = True\n",
        "\n",
        "det_model_path = \"./\""
      ],
      "execution_count": 0,
      "outputs": []
    },
    {
      "cell_type": "code",
      "metadata": {
        "id": "T2du37JKdpAK",
        "colab_type": "code",
        "colab": {}
      },
      "source": [
        "from google.colab import drive"
      ],
      "execution_count": 0,
      "outputs": []
    },
    {
      "cell_type": "code",
      "metadata": {
        "id": "mXRPqaDfdr1P",
        "colab_type": "code",
        "outputId": "297a2f23-d91d-42eb-f2d8-9def69b2b0ae",
        "colab": {
          "base_uri": "https://localhost:8080/",
          "height": 56
        }
      },
      "source": [
        "drive.mount('/content/drive')"
      ],
      "execution_count": 0,
      "outputs": [
        {
          "output_type": "stream",
          "text": [
            "Drive already mounted at /content/drive; to attempt to forcibly remount, call drive.mount(\"/content/drive\", force_remount=True).\n"
          ],
          "name": "stdout"
        }
      ]
    },
    {
      "cell_type": "code",
      "metadata": {
        "id": "KM1QVQ2pduPE",
        "colab_type": "code",
        "colab": {}
      },
      "source": [
        "project_path = \"/content/drive/My Drive/AIML/Face Detection/\""
      ],
      "execution_count": 0,
      "outputs": []
    },
    {
      "cell_type": "code",
      "metadata": {
        "id": "F-pOMEK8pCPS",
        "colab_type": "code",
        "colab": {}
      },
      "source": [
        "train_images_path = project_path + 'WIDER_train.zip'\n",
        "test_images_path = project_path + 'WIDER_val.zip'"
      ],
      "execution_count": 0,
      "outputs": []
    },
    {
      "cell_type": "code",
      "metadata": {
        "id": "5uIDTr5ApCR7",
        "colab_type": "code",
        "colab": {}
      },
      "source": [
        "import zipfile\n",
        "archive = zipfile.ZipFile(train_images_path, 'r')\n",
        "archive.extractall()"
      ],
      "execution_count": 0,
      "outputs": []
    },
    {
      "cell_type": "code",
      "metadata": {
        "id": "BhqDPEEfpCUr",
        "colab_type": "code",
        "colab": {}
      },
      "source": [
        "archive = zipfile.ZipFile(test_images_path, 'r')\n",
        "archive.extractall()"
      ],
      "execution_count": 0,
      "outputs": []
    },
    {
      "cell_type": "markdown",
      "metadata": {
        "id": "-iCibT8AYiJ7",
        "colab_type": "text"
      },
      "source": [
        "### Now, the images are available. The next thing we need is to get the labels for these images, so that we can use this information while training for detecting faces with the given model using transfer learning. \n",
        "\n",
        "#### Follow the below steps to get those labels available.\n",
        "\n",
        "\n",
        "Load the  '' `wider_train_small.npy`'' file given to check the information given about the dataset. In this file you can see the information about each image in the dataset in a list with following elemets:\n",
        "      \n",
        "\n",
        "        1.   Image filename (str)\n",
        "        2.   Image filename (str)\n",
        "        3.   Image size (list) [height, width]\n",
        "        4.   List of bounding box co-ordinates and Class label (list) [[a,b,c,d], Class label, ...]\n",
        "        \n",
        "        where,\n",
        "        a,b,c,d are the four co-ordinates of the bounding box\n",
        "        Class label is the position of object as mentioned in `class_names` list above."
      ]
    },
    {
      "cell_type": "code",
      "metadata": {
        "id": "nub3I0LPmlfk",
        "colab_type": "code",
        "colab": {}
      },
      "source": [
        "data = np.load('./wider_train_small.npy', allow_pickle=True).item()"
      ],
      "execution_count": 0,
      "outputs": []
    },
    {
      "cell_type": "code",
      "metadata": {
        "id": "Q2Fd8RY3pCJS",
        "colab_type": "code",
        "outputId": "bbf1d8d7-b05d-4dbe-c843-9e98340c56e7",
        "colab": {
          "base_uri": "https://localhost:8080/",
          "height": 74
        }
      },
      "source": [
        "### Printed first element to check the above given information.\n",
        "\n",
        "for key in data:\n",
        "    print(key)\n",
        "    print(data[key])\n",
        "    break"
      ],
      "execution_count": 0,
      "outputs": [
        {
          "output_type": "stream",
          "text": [
            "52--Photographers/52_Photographers_photographertakingphoto_52_582.jpg\n",
            "['WIDER_train/images/52--Photographers/52_Photographers_photographertakingphoto_52_582.jpg', 'WIDER_train/images/52--Photographers/52_Photographers_photographertakingphoto_52_582.jpg', [300, 300], [[21, 667, 9, 655], 1]]\n"
          ],
          "name": "stdout"
        }
      ]
    },
    {
      "cell_type": "markdown",
      "metadata": {
        "id": "vlTpXziHZwws",
        "colab_type": "text"
      },
      "source": [
        " As we can see from the above output all the information mentioned above is there for all the images."
      ]
    },
    {
      "cell_type": "markdown",
      "metadata": {
        "id": "m2NBAZGqaec9",
        "colab_type": "text"
      },
      "source": [
        "### Now, load the files `wider_trian.npy` and `wider_val.npy`"
      ]
    },
    {
      "cell_type": "code",
      "metadata": {
        "id": "_kfX49vXas4f",
        "colab_type": "code",
        "colab": {}
      },
      "source": [
        "train_data = 'wider_train_small.npy'\n",
        "test_data = 'wider_val_small.npy'\n",
        "\n",
        "x = np.load(train_data, allow_pickle=True)"
      ],
      "execution_count": 0,
      "outputs": []
    },
    {
      "cell_type": "code",
      "metadata": {
        "id": "pd0o5oCBZwaC",
        "colab_type": "code",
        "outputId": "ee2d3b7e-cf67-4f61-fcc9-2e38a685959f",
        "colab": {
          "base_uri": "https://localhost:8080/",
          "height": 36
        }
      },
      "source": [
        "np.__version__"
      ],
      "execution_count": 0,
      "outputs": [
        {
          "output_type": "execute_result",
          "data": {
            "text/plain": [
              "'1.16.2'"
            ]
          },
          "metadata": {
            "tags": []
          },
          "execution_count": 21
        }
      ]
    },
    {
      "cell_type": "markdown",
      "metadata": {
        "id": "v2KdmbvGblC3",
        "colab_type": "text"
      },
      "source": [
        "### Now, call the imported model with the given parameters and freeze all the layers in the model with names not having ''`detection`'' word as prefix.\n",
        "\n",
        "As we are not training the model from scratch, we are freezing all the above layers in the model having only last few layers while training to update their weights according to the problem in hand. This is called as **Transfer Learning**."
      ]
    },
    {
      "cell_type": "code",
      "metadata": {
        "id": "cHwplT2ggR-1",
        "colab_type": "code",
        "outputId": "af524f81-cbac-4a38-a15f-0232d79e3c0e",
        "colab": {
          "base_uri": "https://localhost:8080/",
          "height": 130
        }
      },
      "source": [
        "# build the keras model\n",
        "# this model is not retrained, we are doing it from scratch \n",
        "\n",
        "K.clear_session()\n",
        "model, model_layer, img_input, predictor_sizes = mn_model(image_size=(img_height, img_width, img_channels), \n",
        "                                                                      n_classes = n_classes,\n",
        "                                                                      min_scale = None, \n",
        "                                                                      max_scale = None, \n",
        "                                                                      scales = scales, \n",
        "                                                                      aspect_ratios_global = None, \n",
        "                                                                      aspect_ratios_per_layer = aspect_ratios, \n",
        "                                                                      two_boxes_for_ar1= two_boxes_for_ar1, \n",
        "                                                                      limit_boxes=limit_boxes, \n",
        "                                                                      variances= variances, \n",
        "                                                                      coords=coords, \n",
        "                                                                      normalize_coords=normalize_coords)"
      ],
      "execution_count": 0,
      "outputs": [
        {
          "output_type": "stream",
          "text": [
            "====> Model Specific data\n",
            "====> Height, Width, Channels : 512 512 3\n",
            "WARNING:tensorflow:From /usr/local/lib/python3.6/dist-packages/tensorflow/python/framework/op_def_library.py:263: colocate_with (from tensorflow.python.framework.ops) is deprecated and will be removed in a future version.\n",
            "Instructions for updating:\n",
            "Colocations handled automatically by placer.\n"
          ],
          "name": "stdout"
        }
      ]
    },
    {
      "cell_type": "code",
      "metadata": {
        "id": "jrqU3vKCahfC",
        "colab_type": "code",
        "outputId": "cd575e31-cc10-46a1-8085-0255a8b18267",
        "colab": {
          "base_uri": "https://localhost:8080/",
          "height": 8743
        }
      },
      "source": [
        "model.summary()"
      ],
      "execution_count": 0,
      "outputs": [
        {
          "output_type": "stream",
          "text": [
            "__________________________________________________________________________________________________\n",
            "Layer (type)                    Output Shape         Param #     Connected to                     \n",
            "==================================================================================================\n",
            "input_1 (InputLayer)            (None, 512, 512, 3)  0                                            \n",
            "__________________________________________________________________________________________________\n",
            "lambda1 (Lambda)                (None, 512, 512, 3)  0           input_1[0][0]                    \n",
            "__________________________________________________________________________________________________\n",
            "lambda2 (Lambda)                (None, 512, 512, 3)  0           lambda1[0][0]                    \n",
            "__________________________________________________________________________________________________\n",
            "lambda3 (Lambda)                (None, 512, 512, 3)  0           lambda2[0][0]                    \n",
            "__________________________________________________________________________________________________\n",
            "conv1 (Conv2D)                  (None, 256, 256, 32) 864         lambda3[0][0]                    \n",
            "__________________________________________________________________________________________________\n",
            "conv1_bn (BatchNormalization)   (None, 256, 256, 32) 128         conv1[0][0]                      \n",
            "__________________________________________________________________________________________________\n",
            "conv1_relu (Activation)         (None, 256, 256, 32) 0           conv1_bn[0][0]                   \n",
            "__________________________________________________________________________________________________\n",
            "conv_dw_1 (DepthwiseConv2D)     (None, 256, 256, 32) 288         conv1_relu[0][0]                 \n",
            "__________________________________________________________________________________________________\n",
            "conv_dw_1_bn (BatchNormalizatio (None, 256, 256, 32) 128         conv_dw_1[0][0]                  \n",
            "__________________________________________________________________________________________________\n",
            "conv_dw_1_relu (Activation)     (None, 256, 256, 32) 0           conv_dw_1_bn[0][0]               \n",
            "__________________________________________________________________________________________________\n",
            "conv_pw_1 (Conv2D)              (None, 256, 256, 64) 2048        conv_dw_1_relu[0][0]             \n",
            "__________________________________________________________________________________________________\n",
            "conv_pw_1_bn (BatchNormalizatio (None, 256, 256, 64) 256         conv_pw_1[0][0]                  \n",
            "__________________________________________________________________________________________________\n",
            "conv_pw_1_relu (Activation)     (None, 256, 256, 64) 0           conv_pw_1_bn[0][0]               \n",
            "__________________________________________________________________________________________________\n",
            "conv_dw_2 (DepthwiseConv2D)     (None, 128, 128, 64) 576         conv_pw_1_relu[0][0]             \n",
            "__________________________________________________________________________________________________\n",
            "conv_dw_2_bn (BatchNormalizatio (None, 128, 128, 64) 256         conv_dw_2[0][0]                  \n",
            "__________________________________________________________________________________________________\n",
            "conv_dw_2_relu (Activation)     (None, 128, 128, 64) 0           conv_dw_2_bn[0][0]               \n",
            "__________________________________________________________________________________________________\n",
            "conv_pw_2 (Conv2D)              (None, 128, 128, 128 8192        conv_dw_2_relu[0][0]             \n",
            "__________________________________________________________________________________________________\n",
            "conv_pw_2_bn (BatchNormalizatio (None, 128, 128, 128 512         conv_pw_2[0][0]                  \n",
            "__________________________________________________________________________________________________\n",
            "conv_pw_2_relu (Activation)     (None, 128, 128, 128 0           conv_pw_2_bn[0][0]               \n",
            "__________________________________________________________________________________________________\n",
            "conv_dw_3 (DepthwiseConv2D)     (None, 128, 128, 128 1152        conv_pw_2_relu[0][0]             \n",
            "__________________________________________________________________________________________________\n",
            "conv_dw_3_bn (BatchNormalizatio (None, 128, 128, 128 512         conv_dw_3[0][0]                  \n",
            "__________________________________________________________________________________________________\n",
            "conv_dw_3_relu (Activation)     (None, 128, 128, 128 0           conv_dw_3_bn[0][0]               \n",
            "__________________________________________________________________________________________________\n",
            "conv_pw_3 (Conv2D)              (None, 128, 128, 128 16384       conv_dw_3_relu[0][0]             \n",
            "__________________________________________________________________________________________________\n",
            "conv_pw_3_bn (BatchNormalizatio (None, 128, 128, 128 512         conv_pw_3[0][0]                  \n",
            "__________________________________________________________________________________________________\n",
            "conv_pw_3_relu (Activation)     (None, 128, 128, 128 0           conv_pw_3_bn[0][0]               \n",
            "__________________________________________________________________________________________________\n",
            "conv_dw_4 (DepthwiseConv2D)     (None, 64, 64, 128)  1152        conv_pw_3_relu[0][0]             \n",
            "__________________________________________________________________________________________________\n",
            "conv_dw_4_bn (BatchNormalizatio (None, 64, 64, 128)  512         conv_dw_4[0][0]                  \n",
            "__________________________________________________________________________________________________\n",
            "conv_dw_4_relu (Activation)     (None, 64, 64, 128)  0           conv_dw_4_bn[0][0]               \n",
            "__________________________________________________________________________________________________\n",
            "conv_pw_4 (Conv2D)              (None, 64, 64, 256)  32768       conv_dw_4_relu[0][0]             \n",
            "__________________________________________________________________________________________________\n",
            "conv_pw_4_bn (BatchNormalizatio (None, 64, 64, 256)  1024        conv_pw_4[0][0]                  \n",
            "__________________________________________________________________________________________________\n",
            "conv_pw_4_relu (Activation)     (None, 64, 64, 256)  0           conv_pw_4_bn[0][0]               \n",
            "__________________________________________________________________________________________________\n",
            "conv_dw_5 (DepthwiseConv2D)     (None, 64, 64, 256)  2304        conv_pw_4_relu[0][0]             \n",
            "__________________________________________________________________________________________________\n",
            "conv_dw_5_bn (BatchNormalizatio (None, 64, 64, 256)  1024        conv_dw_5[0][0]                  \n",
            "__________________________________________________________________________________________________\n",
            "conv_dw_5_relu (Activation)     (None, 64, 64, 256)  0           conv_dw_5_bn[0][0]               \n",
            "__________________________________________________________________________________________________\n",
            "conv_pw_5 (Conv2D)              (None, 64, 64, 256)  65536       conv_dw_5_relu[0][0]             \n",
            "__________________________________________________________________________________________________\n",
            "conv_pw_5_bn (BatchNormalizatio (None, 64, 64, 256)  1024        conv_pw_5[0][0]                  \n",
            "__________________________________________________________________________________________________\n",
            "conv_pw_5_relu (Activation)     (None, 64, 64, 256)  0           conv_pw_5_bn[0][0]               \n",
            "__________________________________________________________________________________________________\n",
            "conv_dw_6 (DepthwiseConv2D)     (None, 32, 32, 256)  2304        conv_pw_5_relu[0][0]             \n",
            "__________________________________________________________________________________________________\n",
            "conv_dw_6_bn (BatchNormalizatio (None, 32, 32, 256)  1024        conv_dw_6[0][0]                  \n",
            "__________________________________________________________________________________________________\n",
            "conv_dw_6_relu (Activation)     (None, 32, 32, 256)  0           conv_dw_6_bn[0][0]               \n",
            "__________________________________________________________________________________________________\n",
            "conv_pw_6 (Conv2D)              (None, 32, 32, 512)  131072      conv_dw_6_relu[0][0]             \n",
            "__________________________________________________________________________________________________\n",
            "conv_pw_6_bn (BatchNormalizatio (None, 32, 32, 512)  2048        conv_pw_6[0][0]                  \n",
            "__________________________________________________________________________________________________\n",
            "conv_pw_6_relu (Activation)     (None, 32, 32, 512)  0           conv_pw_6_bn[0][0]               \n",
            "__________________________________________________________________________________________________\n",
            "conv_dw_7 (DepthwiseConv2D)     (None, 32, 32, 512)  4608        conv_pw_6_relu[0][0]             \n",
            "__________________________________________________________________________________________________\n",
            "conv_dw_7_bn (BatchNormalizatio (None, 32, 32, 512)  2048        conv_dw_7[0][0]                  \n",
            "__________________________________________________________________________________________________\n",
            "conv_dw_7_relu (Activation)     (None, 32, 32, 512)  0           conv_dw_7_bn[0][0]               \n",
            "__________________________________________________________________________________________________\n",
            "conv_pw_7 (Conv2D)              (None, 32, 32, 512)  262144      conv_dw_7_relu[0][0]             \n",
            "__________________________________________________________________________________________________\n",
            "conv_pw_7_bn (BatchNormalizatio (None, 32, 32, 512)  2048        conv_pw_7[0][0]                  \n",
            "__________________________________________________________________________________________________\n",
            "conv_pw_7_relu (Activation)     (None, 32, 32, 512)  0           conv_pw_7_bn[0][0]               \n",
            "__________________________________________________________________________________________________\n",
            "conv_dw_8 (DepthwiseConv2D)     (None, 32, 32, 512)  4608        conv_pw_7_relu[0][0]             \n",
            "__________________________________________________________________________________________________\n",
            "conv_dw_8_bn (BatchNormalizatio (None, 32, 32, 512)  2048        conv_dw_8[0][0]                  \n",
            "__________________________________________________________________________________________________\n",
            "conv_dw_8_relu (Activation)     (None, 32, 32, 512)  0           conv_dw_8_bn[0][0]               \n",
            "__________________________________________________________________________________________________\n",
            "conv_pw_8 (Conv2D)              (None, 32, 32, 512)  262144      conv_dw_8_relu[0][0]             \n",
            "__________________________________________________________________________________________________\n",
            "conv_pw_8_bn (BatchNormalizatio (None, 32, 32, 512)  2048        conv_pw_8[0][0]                  \n",
            "__________________________________________________________________________________________________\n",
            "conv_pw_8_relu (Activation)     (None, 32, 32, 512)  0           conv_pw_8_bn[0][0]               \n",
            "__________________________________________________________________________________________________\n",
            "conv_dw_9 (DepthwiseConv2D)     (None, 32, 32, 512)  4608        conv_pw_8_relu[0][0]             \n",
            "__________________________________________________________________________________________________\n",
            "conv_dw_9_bn (BatchNormalizatio (None, 32, 32, 512)  2048        conv_dw_9[0][0]                  \n",
            "__________________________________________________________________________________________________\n",
            "conv_dw_9_relu (Activation)     (None, 32, 32, 512)  0           conv_dw_9_bn[0][0]               \n",
            "__________________________________________________________________________________________________\n",
            "conv_pw_9 (Conv2D)              (None, 32, 32, 512)  262144      conv_dw_9_relu[0][0]             \n",
            "__________________________________________________________________________________________________\n",
            "conv_pw_9_bn (BatchNormalizatio (None, 32, 32, 512)  2048        conv_pw_9[0][0]                  \n",
            "__________________________________________________________________________________________________\n",
            "conv_pw_9_relu (Activation)     (None, 32, 32, 512)  0           conv_pw_9_bn[0][0]               \n",
            "__________________________________________________________________________________________________\n",
            "conv_dw_10 (DepthwiseConv2D)    (None, 32, 32, 512)  4608        conv_pw_9_relu[0][0]             \n",
            "__________________________________________________________________________________________________\n",
            "conv_dw_10_bn (BatchNormalizati (None, 32, 32, 512)  2048        conv_dw_10[0][0]                 \n",
            "__________________________________________________________________________________________________\n",
            "conv_dw_10_relu (Activation)    (None, 32, 32, 512)  0           conv_dw_10_bn[0][0]              \n",
            "__________________________________________________________________________________________________\n",
            "conv_pw_10 (Conv2D)             (None, 32, 32, 512)  262144      conv_dw_10_relu[0][0]            \n",
            "__________________________________________________________________________________________________\n",
            "conv_pw_10_bn (BatchNormalizati (None, 32, 32, 512)  2048        conv_pw_10[0][0]                 \n",
            "__________________________________________________________________________________________________\n",
            "conv_pw_10_relu (Activation)    (None, 32, 32, 512)  0           conv_pw_10_bn[0][0]              \n",
            "__________________________________________________________________________________________________\n",
            "conv_dw_11 (DepthwiseConv2D)    (None, 32, 32, 512)  4608        conv_pw_10_relu[0][0]            \n",
            "__________________________________________________________________________________________________\n",
            "conv_dw_11_bn (BatchNormalizati (None, 32, 32, 512)  2048        conv_dw_11[0][0]                 \n",
            "__________________________________________________________________________________________________\n",
            "conv_dw_11_relu (Activation)    (None, 32, 32, 512)  0           conv_dw_11_bn[0][0]              \n",
            "__________________________________________________________________________________________________\n",
            "conv_pw_11 (Conv2D)             (None, 32, 32, 512)  262144      conv_dw_11_relu[0][0]            \n",
            "__________________________________________________________________________________________________\n",
            "conv_pw_11_bn (BatchNormalizati (None, 32, 32, 512)  2048        conv_pw_11[0][0]                 \n",
            "__________________________________________________________________________________________________\n",
            "conv_pw_11_relu (Activation)    (None, 32, 32, 512)  0           conv_pw_11_bn[0][0]              \n",
            "__________________________________________________________________________________________________\n",
            "conv_dw_12 (DepthwiseConv2D)    (None, 16, 16, 512)  4608        conv_pw_11_relu[0][0]            \n",
            "__________________________________________________________________________________________________\n",
            "conv_dw_12_bn (BatchNormalizati (None, 16, 16, 512)  2048        conv_dw_12[0][0]                 \n",
            "__________________________________________________________________________________________________\n",
            "conv_dw_12_relu (Activation)    (None, 16, 16, 512)  0           conv_dw_12_bn[0][0]              \n",
            "__________________________________________________________________________________________________\n",
            "conv_pw_12 (Conv2D)             (None, 16, 16, 1024) 524288      conv_dw_12_relu[0][0]            \n",
            "__________________________________________________________________________________________________\n",
            "conv_pw_12_bn (BatchNormalizati (None, 16, 16, 1024) 4096        conv_pw_12[0][0]                 \n",
            "__________________________________________________________________________________________________\n",
            "conv_pw_12_relu (Activation)    (None, 16, 16, 1024) 0           conv_pw_12_bn[0][0]              \n",
            "__________________________________________________________________________________________________\n",
            "conv_dw_13 (DepthwiseConv2D)    (None, 16, 16, 1024) 9216        conv_pw_12_relu[0][0]            \n",
            "__________________________________________________________________________________________________\n",
            "conv_dw_13_bn (BatchNormalizati (None, 16, 16, 1024) 4096        conv_dw_13[0][0]                 \n",
            "__________________________________________________________________________________________________\n",
            "conv_dw_13_relu (Activation)    (None, 16, 16, 1024) 0           conv_dw_13_bn[0][0]              \n",
            "__________________________________________________________________________________________________\n",
            "conv_pw_13 (Conv2D)             (None, 16, 16, 1024) 1048576     conv_dw_13_relu[0][0]            \n",
            "__________________________________________________________________________________________________\n",
            "conv_pw_13_bn (BatchNormalizati (None, 16, 16, 1024) 4096        conv_pw_13[0][0]                 \n",
            "__________________________________________________________________________________________________\n",
            "conv_pw_13_relu (Activation)    (None, 16, 16, 1024) 0           conv_pw_13_bn[0][0]              \n",
            "__________________________________________________________________________________________________\n",
            "detection_conv6_1 (Conv2D)      (None, 16, 16, 256)  262400      conv_pw_13_relu[0][0]            \n",
            "__________________________________________________________________________________________________\n",
            "detection_conv6_1_bn (BatchNorm (None, 16, 16, 256)  1024        detection_conv6_1[0][0]          \n",
            "__________________________________________________________________________________________________\n",
            "detection_conv6_1_nonlin (Lambd (None, 16, 16, 256)  0           detection_conv6_1_bn[0][0]       \n",
            "__________________________________________________________________________________________________\n",
            "detection_conv6_2_conv_dw_1 (De (None, 8, 8, 256)    2304        detection_conv6_1_nonlin[0][0]   \n",
            "__________________________________________________________________________________________________\n",
            "detection_conv6_2_conv_dw_1_bn  (None, 8, 8, 256)    1024        detection_conv6_2_conv_dw_1[0][0]\n",
            "__________________________________________________________________________________________________\n",
            "detection_conv6_2_conv_dw_1_rel (None, 8, 8, 256)    0           detection_conv6_2_conv_dw_1_bn[0]\n",
            "__________________________________________________________________________________________________\n",
            "detection_conv6_2_conv_pw_1 (Co (None, 8, 8, 512)    131072      detection_conv6_2_conv_dw_1_relu[\n",
            "__________________________________________________________________________________________________\n",
            "detection_conv6_2_conv_pw_1_bn  (None, 8, 8, 512)    2048        detection_conv6_2_conv_pw_1[0][0]\n",
            "__________________________________________________________________________________________________\n",
            "detection_conv6_2_conv_pw_1_rel (None, 8, 8, 512)    0           detection_conv6_2_conv_pw_1_bn[0]\n",
            "__________________________________________________________________________________________________\n",
            "detection_conv7_1 (Conv2D)      (None, 8, 8, 128)    65664       detection_conv6_2_conv_pw_1_relu[\n",
            "__________________________________________________________________________________________________\n",
            "detection_conv7_1_bn (BatchNorm (None, 8, 8, 128)    512         detection_conv7_1[0][0]          \n",
            "__________________________________________________________________________________________________\n",
            "detection_conv7_1_nonlin (Lambd (None, 8, 8, 128)    0           detection_conv7_1_bn[0][0]       \n",
            "__________________________________________________________________________________________________\n",
            "detection_conv7_2_conv_dw_2 (De (None, 4, 4, 128)    1152        detection_conv7_1_nonlin[0][0]   \n",
            "__________________________________________________________________________________________________\n",
            "detection_conv7_2_conv_dw_2_bn  (None, 4, 4, 128)    512         detection_conv7_2_conv_dw_2[0][0]\n",
            "__________________________________________________________________________________________________\n",
            "detection_conv7_2_conv_dw_2_rel (None, 4, 4, 128)    0           detection_conv7_2_conv_dw_2_bn[0]\n",
            "__________________________________________________________________________________________________\n",
            "detection_conv7_2_conv_pw_2 (Co (None, 4, 4, 256)    32768       detection_conv7_2_conv_dw_2_relu[\n",
            "__________________________________________________________________________________________________\n",
            "detection_conv7_2_conv_pw_2_bn  (None, 4, 4, 256)    1024        detection_conv7_2_conv_pw_2[0][0]\n",
            "__________________________________________________________________________________________________\n",
            "detection_conv7_2_conv_pw_2_rel (None, 4, 4, 256)    0           detection_conv7_2_conv_pw_2_bn[0]\n",
            "__________________________________________________________________________________________________\n",
            "detection_conv8_1 (Conv2D)      (None, 4, 4, 128)    32896       detection_conv7_2_conv_pw_2_relu[\n",
            "__________________________________________________________________________________________________\n",
            "detection_conv8_1_bn (BatchNorm (None, 4, 4, 128)    512         detection_conv8_1[0][0]          \n",
            "__________________________________________________________________________________________________\n",
            "detection_conv8_1_nonlin (Lambd (None, 4, 4, 128)    0           detection_conv8_1_bn[0][0]       \n",
            "__________________________________________________________________________________________________\n",
            "detection_conv8_2_conv_dw_3 (De (None, 2, 2, 128)    1152        detection_conv8_1_nonlin[0][0]   \n",
            "__________________________________________________________________________________________________\n",
            "detection_conv8_2_conv_dw_3_bn  (None, 2, 2, 128)    512         detection_conv8_2_conv_dw_3[0][0]\n",
            "__________________________________________________________________________________________________\n",
            "detection_conv8_2_conv_dw_3_rel (None, 2, 2, 128)    0           detection_conv8_2_conv_dw_3_bn[0]\n",
            "__________________________________________________________________________________________________\n",
            "detection_conv8_2_conv_pw_3 (Co (None, 2, 2, 256)    32768       detection_conv8_2_conv_dw_3_relu[\n",
            "__________________________________________________________________________________________________\n",
            "detection_conv8_2_conv_pw_3_bn  (None, 2, 2, 256)    1024        detection_conv8_2_conv_pw_3[0][0]\n",
            "__________________________________________________________________________________________________\n",
            "detection_conv8_2_conv_pw_3_rel (None, 2, 2, 256)    0           detection_conv8_2_conv_pw_3_bn[0]\n",
            "__________________________________________________________________________________________________\n",
            "detection_conv9_1 (Conv2D)      (None, 2, 2, 64)     16448       detection_conv8_2_conv_pw_3_relu[\n",
            "__________________________________________________________________________________________________\n",
            "detection_conv9_1_bn (BatchNorm (None, 2, 2, 64)     256         detection_conv9_1[0][0]          \n",
            "__________________________________________________________________________________________________\n",
            "detection_conv9_1_nonlin (Lambd (None, 2, 2, 64)     0           detection_conv9_1_bn[0][0]       \n",
            "__________________________________________________________________________________________________\n",
            "detection_conv9_2_conv_dw_4 (De (None, 1, 1, 64)     576         detection_conv9_1_nonlin[0][0]   \n",
            "__________________________________________________________________________________________________\n",
            "detection_conv9_2_conv_dw_4_bn  (None, 1, 1, 64)     256         detection_conv9_2_conv_dw_4[0][0]\n",
            "__________________________________________________________________________________________________\n",
            "detection_conv9_2_conv_dw_4_rel (None, 1, 1, 64)     0           detection_conv9_2_conv_dw_4_bn[0]\n",
            "__________________________________________________________________________________________________\n",
            "detection_conv9_2_conv_pw_4 (Co (None, 1, 1, 256)    16384       detection_conv9_2_conv_dw_4_relu[\n",
            "__________________________________________________________________________________________________\n",
            "detection_conv9_2_conv_pw_4_bn  (None, 1, 1, 256)    1024        detection_conv9_2_conv_pw_4[0][0]\n",
            "__________________________________________________________________________________________________\n",
            "detection_conv4_3_norm (L2Norma (None, 32, 32, 512)  512         conv_pw_11_relu[0][0]            \n",
            "__________________________________________________________________________________________________\n",
            "detection_conv9_2_conv_pw_4_rel (None, 1, 1, 256)    0           detection_conv9_2_conv_pw_4_bn[0]\n",
            "__________________________________________________________________________________________________\n",
            "detection_conv4_3_norm_mbox_con (None, 32, 32, 512)  4608        detection_conv4_3_norm[0][0]     \n",
            "__________________________________________________________________________________________________\n",
            "detection_fc7_mbox_conf_conv_dw (None, 16, 16, 1024) 9216        conv_pw_13_relu[0][0]            \n",
            "__________________________________________________________________________________________________\n",
            "detection_conv6_2_mbox_conf_con (None, 8, 8, 512)    4608        detection_conv6_2_conv_pw_1_relu[\n",
            "__________________________________________________________________________________________________\n",
            "detection_conv7_2_mbox_conf_con (None, 4, 4, 256)    2304        detection_conv7_2_conv_pw_2_relu[\n",
            "__________________________________________________________________________________________________\n",
            "detection_conv8_2_mbox_conf_con (None, 2, 2, 256)    2304        detection_conv8_2_conv_pw_3_relu[\n",
            "__________________________________________________________________________________________________\n",
            "detection_conv9_2_mbox_conf_con (None, 1, 1, 256)    2304        detection_conv9_2_conv_pw_4_relu[\n",
            "__________________________________________________________________________________________________\n",
            "detection_conv4_3_norm_mbox_con (None, 32, 32, 512)  2048        detection_conv4_3_norm_mbox_conf_\n",
            "__________________________________________________________________________________________________\n",
            "detection_fc7_mbox_conf_conv_dw (None, 16, 16, 1024) 4096        detection_fc7_mbox_conf_conv_dw_2\n",
            "__________________________________________________________________________________________________\n",
            "detection_conv6_2_mbox_conf_con (None, 8, 8, 512)    2048        detection_conv6_2_mbox_conf_conv_\n",
            "__________________________________________________________________________________________________\n",
            "detection_conv7_2_mbox_conf_con (None, 4, 4, 256)    1024        detection_conv7_2_mbox_conf_conv_\n",
            "__________________________________________________________________________________________________\n",
            "detection_conv8_2_mbox_conf_con (None, 2, 2, 256)    1024        detection_conv8_2_mbox_conf_conv_\n",
            "__________________________________________________________________________________________________\n",
            "detection_conv9_2_mbox_conf_con (None, 1, 1, 256)    1024        detection_conv9_2_mbox_conf_conv_\n",
            "__________________________________________________________________________________________________\n",
            "detection_conv4_3_norm_mbox_loc (None, 32, 32, 512)  4608        detection_conv4_3_norm[0][0]     \n",
            "__________________________________________________________________________________________________\n",
            "detection_fc7_mbox_loc_conv_dw_ (None, 16, 16, 1024) 9216        conv_pw_13_relu[0][0]            \n",
            "__________________________________________________________________________________________________\n",
            "detection_conv6_2_mbox_loc_conv (None, 8, 8, 512)    4608        detection_conv6_2_conv_pw_1_relu[\n",
            "__________________________________________________________________________________________________\n",
            "detection_conv7_2_mbox_loc_conv (None, 4, 4, 256)    2304        detection_conv7_2_conv_pw_2_relu[\n",
            "__________________________________________________________________________________________________\n",
            "detection_conv8_2_mbox_loc_conv (None, 2, 2, 256)    2304        detection_conv8_2_conv_pw_3_relu[\n",
            "__________________________________________________________________________________________________\n",
            "detection_conv9_2_mbox_loc_conv (None, 1, 1, 256)    2304        detection_conv9_2_conv_pw_4_relu[\n",
            "__________________________________________________________________________________________________\n",
            "detection_conv4_3_norm_mbox_con (None, 32, 32, 512)  0           detection_conv4_3_norm_mbox_conf_\n",
            "__________________________________________________________________________________________________\n",
            "detection_fc7_mbox_conf_conv_dw (None, 16, 16, 1024) 0           detection_fc7_mbox_conf_conv_dw_2\n",
            "__________________________________________________________________________________________________\n",
            "detection_conv6_2_mbox_conf_con (None, 8, 8, 512)    0           detection_conv6_2_mbox_conf_conv_\n",
            "__________________________________________________________________________________________________\n",
            "detection_conv7_2_mbox_conf_con (None, 4, 4, 256)    0           detection_conv7_2_mbox_conf_conv_\n",
            "__________________________________________________________________________________________________\n",
            "detection_conv8_2_mbox_conf_con (None, 2, 2, 256)    0           detection_conv8_2_mbox_conf_conv_\n",
            "__________________________________________________________________________________________________\n",
            "detection_conv9_2_mbox_conf_con (None, 1, 1, 256)    0           detection_conv9_2_mbox_conf_conv_\n",
            "__________________________________________________________________________________________________\n",
            "detection_conv4_3_norm_mbox_loc (None, 32, 32, 512)  2048        detection_conv4_3_norm_mbox_loc_c\n",
            "__________________________________________________________________________________________________\n",
            "detection_fc7_mbox_loc_conv_dw_ (None, 16, 16, 1024) 4096        detection_fc7_mbox_loc_conv_dw_2[\n",
            "__________________________________________________________________________________________________\n",
            "detection_conv6_2_mbox_loc_conv (None, 8, 8, 512)    2048        detection_conv6_2_mbox_loc_conv_d\n",
            "__________________________________________________________________________________________________\n",
            "detection_conv7_2_mbox_loc_conv (None, 4, 4, 256)    1024        detection_conv7_2_mbox_loc_conv_d\n",
            "__________________________________________________________________________________________________\n",
            "detection_conv8_2_mbox_loc_conv (None, 2, 2, 256)    1024        detection_conv8_2_mbox_loc_conv_d\n",
            "__________________________________________________________________________________________________\n",
            "detection_conv9_2_mbox_loc_conv (None, 1, 1, 256)    1024        detection_conv9_2_mbox_loc_conv_d\n",
            "__________________________________________________________________________________________________\n",
            "detection_conv4_3_norm_mbox_con (None, 32, 32, 8)    4096        detection_conv4_3_norm_mbox_conf_\n",
            "__________________________________________________________________________________________________\n",
            "detection_fc7_mbox_conf_conv_pw (None, 16, 16, 12)   12288       detection_fc7_mbox_conf_conv_dw_2\n",
            "__________________________________________________________________________________________________\n",
            "detection_conv6_2_mbox_conf_con (None, 8, 8, 12)     6144        detection_conv6_2_mbox_conf_conv_\n",
            "__________________________________________________________________________________________________\n",
            "detection_conv7_2_mbox_conf_con (None, 4, 4, 12)     3072        detection_conv7_2_mbox_conf_conv_\n",
            "__________________________________________________________________________________________________\n",
            "detection_conv8_2_mbox_conf_con (None, 2, 2, 8)      2048        detection_conv8_2_mbox_conf_conv_\n",
            "__________________________________________________________________________________________________\n",
            "detection_conv9_2_mbox_conf_con (None, 1, 1, 8)      2048        detection_conv9_2_mbox_conf_conv_\n",
            "__________________________________________________________________________________________________\n",
            "detection_conv4_3_norm_mbox_loc (None, 32, 32, 512)  0           detection_conv4_3_norm_mbox_loc_c\n",
            "__________________________________________________________________________________________________\n",
            "detection_fc7_mbox_loc_conv_dw_ (None, 16, 16, 1024) 0           detection_fc7_mbox_loc_conv_dw_2_\n",
            "__________________________________________________________________________________________________\n",
            "detection_conv6_2_mbox_loc_conv (None, 8, 8, 512)    0           detection_conv6_2_mbox_loc_conv_d\n",
            "__________________________________________________________________________________________________\n",
            "detection_conv7_2_mbox_loc_conv (None, 4, 4, 256)    0           detection_conv7_2_mbox_loc_conv_d\n",
            "__________________________________________________________________________________________________\n",
            "detection_conv8_2_mbox_loc_conv (None, 2, 2, 256)    0           detection_conv8_2_mbox_loc_conv_d\n",
            "__________________________________________________________________________________________________\n",
            "detection_conv9_2_mbox_loc_conv (None, 1, 1, 256)    0           detection_conv9_2_mbox_loc_conv_d\n",
            "__________________________________________________________________________________________________\n",
            "detection_conv4_3_norm_mbox_con (None, 32, 32, 8)    32          detection_conv4_3_norm_mbox_conf_\n",
            "__________________________________________________________________________________________________\n",
            "detection_fc7_mbox_conf_conv_pw (None, 16, 16, 12)   48          detection_fc7_mbox_conf_conv_pw_2\n",
            "__________________________________________________________________________________________________\n",
            "detection_conv6_2_mbox_conf_con (None, 8, 8, 12)     48          detection_conv6_2_mbox_conf_conv_\n",
            "__________________________________________________________________________________________________\n",
            "detection_conv7_2_mbox_conf_con (None, 4, 4, 12)     48          detection_conv7_2_mbox_conf_conv_\n",
            "__________________________________________________________________________________________________\n",
            "detection_conv8_2_mbox_conf_con (None, 2, 2, 8)      32          detection_conv8_2_mbox_conf_conv_\n",
            "__________________________________________________________________________________________________\n",
            "detection_conv9_2_mbox_conf_con (None, 1, 1, 8)      32          detection_conv9_2_mbox_conf_conv_\n",
            "__________________________________________________________________________________________________\n",
            "detection_conv4_3_norm_mbox_loc (None, 32, 32, 16)   8192        detection_conv4_3_norm_mbox_loc_c\n",
            "__________________________________________________________________________________________________\n",
            "detection_fc7_mbox_loc_conv_pw_ (None, 16, 16, 24)   24576       detection_fc7_mbox_loc_conv_dw_2_\n",
            "__________________________________________________________________________________________________\n",
            "detection_conv6_2_mbox_loc_conv (None, 8, 8, 24)     12288       detection_conv6_2_mbox_loc_conv_d\n",
            "__________________________________________________________________________________________________\n",
            "detection_conv7_2_mbox_loc_conv (None, 4, 4, 24)     6144        detection_conv7_2_mbox_loc_conv_d\n",
            "__________________________________________________________________________________________________\n",
            "detection_conv8_2_mbox_loc_conv (None, 2, 2, 16)     4096        detection_conv8_2_mbox_loc_conv_d\n",
            "__________________________________________________________________________________________________\n",
            "detection_conv9_2_mbox_loc_conv (None, 1, 1, 16)     4096        detection_conv9_2_mbox_loc_conv_d\n",
            "__________________________________________________________________________________________________\n",
            "detection_conv4_3_norm_mbox_con (None, 32, 32, 8)    0           detection_conv4_3_norm_mbox_conf_\n",
            "__________________________________________________________________________________________________\n",
            "detection_fc7_mbox_conf_conv_pw (None, 16, 16, 12)   0           detection_fc7_mbox_conf_conv_pw_2\n",
            "__________________________________________________________________________________________________\n",
            "detection_conv6_2_mbox_conf_con (None, 8, 8, 12)     0           detection_conv6_2_mbox_conf_conv_\n",
            "__________________________________________________________________________________________________\n",
            "detection_conv7_2_mbox_conf_con (None, 4, 4, 12)     0           detection_conv7_2_mbox_conf_conv_\n",
            "__________________________________________________________________________________________________\n",
            "detection_conv8_2_mbox_conf_con (None, 2, 2, 8)      0           detection_conv8_2_mbox_conf_conv_\n",
            "__________________________________________________________________________________________________\n",
            "detection_conv9_2_mbox_conf_con (None, 1, 1, 8)      0           detection_conv9_2_mbox_conf_conv_\n",
            "__________________________________________________________________________________________________\n",
            "detection_conv4_3_norm_mbox_loc (None, 32, 32, 16)   64          detection_conv4_3_norm_mbox_loc_c\n",
            "__________________________________________________________________________________________________\n",
            "detection_fc7_mbox_loc_conv_pw_ (None, 16, 16, 24)   96          detection_fc7_mbox_loc_conv_pw_2[\n",
            "__________________________________________________________________________________________________\n",
            "detection_conv6_2_mbox_loc_conv (None, 8, 8, 24)     96          detection_conv6_2_mbox_loc_conv_p\n",
            "__________________________________________________________________________________________________\n",
            "detection_conv7_2_mbox_loc_conv (None, 4, 4, 24)     96          detection_conv7_2_mbox_loc_conv_p\n",
            "__________________________________________________________________________________________________\n",
            "detection_conv8_2_mbox_loc_conv (None, 2, 2, 16)     64          detection_conv8_2_mbox_loc_conv_p\n",
            "__________________________________________________________________________________________________\n",
            "detection_conv9_2_mbox_loc_conv (None, 1, 1, 16)     64          detection_conv9_2_mbox_loc_conv_p\n",
            "__________________________________________________________________________________________________\n",
            "detection_conv4_3_norm_mbox_con (None, 4096, 2)      0           detection_conv4_3_norm_mbox_conf_\n",
            "__________________________________________________________________________________________________\n",
            "detection_fc7_mbox_conf_reshape (None, 1536, 2)      0           detection_fc7_mbox_conf_conv_pw_2\n",
            "__________________________________________________________________________________________________\n",
            "detection_conv6_2_mbox_conf_res (None, 384, 2)       0           detection_conv6_2_mbox_conf_conv_\n",
            "__________________________________________________________________________________________________\n",
            "detection_conv7_2_mbox_conf_res (None, 96, 2)        0           detection_conv7_2_mbox_conf_conv_\n",
            "__________________________________________________________________________________________________\n",
            "detection_conv8_2_mbox_conf_res (None, 16, 2)        0           detection_conv8_2_mbox_conf_conv_\n",
            "__________________________________________________________________________________________________\n",
            "detection_conv9_2_mbox_conf_res (None, 4, 2)         0           detection_conv9_2_mbox_conf_conv_\n",
            "__________________________________________________________________________________________________\n",
            "detection_conv4_3_norm_mbox_loc (None, 32, 32, 16)   0           detection_conv4_3_norm_mbox_loc_c\n",
            "__________________________________________________________________________________________________\n",
            "detection_fc7_mbox_loc_conv_pw_ (None, 16, 16, 24)   0           detection_fc7_mbox_loc_conv_pw_2_\n",
            "__________________________________________________________________________________________________\n",
            "detection_conv6_2_mbox_loc_conv (None, 8, 8, 24)     0           detection_conv6_2_mbox_loc_conv_p\n",
            "__________________________________________________________________________________________________\n",
            "detection_conv7_2_mbox_loc_conv (None, 4, 4, 24)     0           detection_conv7_2_mbox_loc_conv_p\n",
            "__________________________________________________________________________________________________\n",
            "detection_conv8_2_mbox_loc_conv (None, 2, 2, 16)     0           detection_conv8_2_mbox_loc_conv_p\n",
            "__________________________________________________________________________________________________\n",
            "detection_conv9_2_mbox_loc_conv (None, 1, 1, 16)     0           detection_conv9_2_mbox_loc_conv_p\n",
            "__________________________________________________________________________________________________\n",
            "detection_conv4_3_norm_mbox_pri (None, 32, 32, 4, 8) 0           detection_conv4_3_norm[0][0]     \n",
            "__________________________________________________________________________________________________\n",
            "detection_fc7_mbox_priorbox (An (None, 16, 16, 6, 8) 0           conv_pw_13_relu[0][0]            \n",
            "__________________________________________________________________________________________________\n",
            "detection_conv6_2_mbox_priorbox (None, 8, 8, 6, 8)   0           detection_conv6_2_conv_pw_1_relu[\n",
            "__________________________________________________________________________________________________\n",
            "detection_conv7_2_mbox_priorbox (None, 4, 4, 6, 8)   0           detection_conv7_2_conv_pw_2_relu[\n",
            "__________________________________________________________________________________________________\n",
            "detection_conv8_2_mbox_priorbox (None, 2, 2, 4, 8)   0           detection_conv8_2_conv_pw_3_relu[\n",
            "__________________________________________________________________________________________________\n",
            "detection_conv9_2_mbox_priorbox (None, 1, 1, 4, 8)   0           detection_conv9_2_conv_pw_4_relu[\n",
            "__________________________________________________________________________________________________\n",
            "detection_mbox_conf (Concatenat (None, 6132, 2)      0           detection_conv4_3_norm_mbox_conf_\n",
            "                                                                 detection_fc7_mbox_conf_reshape[0\n",
            "                                                                 detection_conv6_2_mbox_conf_resha\n",
            "                                                                 detection_conv7_2_mbox_conf_resha\n",
            "                                                                 detection_conv8_2_mbox_conf_resha\n",
            "                                                                 detection_conv9_2_mbox_conf_resha\n",
            "__________________________________________________________________________________________________\n",
            "detection_conv4_3_norm_mbox_loc (None, 4096, 4)      0           detection_conv4_3_norm_mbox_loc_c\n",
            "__________________________________________________________________________________________________\n",
            "detection_fc7_mbox_loc_reshape  (None, 1536, 4)      0           detection_fc7_mbox_loc_conv_pw_2_\n",
            "__________________________________________________________________________________________________\n",
            "detection_conv6_2_mbox_loc_resh (None, 384, 4)       0           detection_conv6_2_mbox_loc_conv_p\n",
            "__________________________________________________________________________________________________\n",
            "detection_conv7_2_mbox_loc_resh (None, 96, 4)        0           detection_conv7_2_mbox_loc_conv_p\n",
            "__________________________________________________________________________________________________\n",
            "detection_conv8_2_mbox_loc_resh (None, 16, 4)        0           detection_conv8_2_mbox_loc_conv_p\n",
            "__________________________________________________________________________________________________\n",
            "detection_conv9_2_mbox_loc_resh (None, 4, 4)         0           detection_conv9_2_mbox_loc_conv_p\n",
            "__________________________________________________________________________________________________\n",
            "detection_conv4_3_norm_mbox_pri (None, 4096, 8)      0           detection_conv4_3_norm_mbox_prior\n",
            "__________________________________________________________________________________________________\n",
            "detection_fc7_mbox_priorbox_res (None, 1536, 8)      0           detection_fc7_mbox_priorbox[0][0]\n",
            "__________________________________________________________________________________________________\n",
            "detection_conv6_2_mbox_priorbox (None, 384, 8)       0           detection_conv6_2_mbox_priorbox[0\n",
            "__________________________________________________________________________________________________\n",
            "detection_conv7_2_mbox_priorbox (None, 96, 8)        0           detection_conv7_2_mbox_priorbox[0\n",
            "__________________________________________________________________________________________________\n",
            "detection_conv8_2_mbox_priorbox (None, 16, 8)        0           detection_conv8_2_mbox_priorbox[0\n",
            "__________________________________________________________________________________________________\n",
            "detection_conv9_2_mbox_priorbox (None, 4, 8)         0           detection_conv9_2_mbox_priorbox[0\n",
            "__________________________________________________________________________________________________\n",
            "detection_mbox_conf_softmax (Ac (None, 6132, 2)      0           detection_mbox_conf[0][0]        \n",
            "__________________________________________________________________________________________________\n",
            "detection_mbox_loc (Concatenate (None, 6132, 4)      0           detection_conv4_3_norm_mbox_loc_r\n",
            "                                                                 detection_fc7_mbox_loc_reshape[0]\n",
            "                                                                 detection_conv6_2_mbox_loc_reshap\n",
            "                                                                 detection_conv7_2_mbox_loc_reshap\n",
            "                                                                 detection_conv8_2_mbox_loc_reshap\n",
            "                                                                 detection_conv9_2_mbox_loc_reshap\n",
            "__________________________________________________________________________________________________\n",
            "detection_mbox_priorbox (Concat (None, 6132, 8)      0           detection_conv4_3_norm_mbox_prior\n",
            "                                                                 detection_fc7_mbox_priorbox_resha\n",
            "                                                                 detection_conv6_2_mbox_priorbox_r\n",
            "                                                                 detection_conv7_2_mbox_priorbox_r\n",
            "                                                                 detection_conv8_2_mbox_priorbox_r\n",
            "                                                                 detection_conv9_2_mbox_priorbox_r\n",
            "__________________________________________________________________________________________________\n",
            "detection_predictions (Concaten (None, 6132, 14)     0           detection_mbox_conf_softmax[0][0]\n",
            "                                                                 detection_mbox_loc[0][0]         \n",
            "                                                                 detection_mbox_priorbox[0][0]    \n",
            "==================================================================================================\n",
            "Total params: 3,997,712\n",
            "Trainable params: 3,959,336\n",
            "Non-trainable params: 38,376\n",
            "__________________________________________________________________________________________________\n"
          ],
          "name": "stdout"
        }
      ]
    },
    {
      "cell_type": "markdown",
      "metadata": {
        "id": "FfC4yNb_uCdT",
        "colab_type": "text"
      },
      "source": [
        "#### Write code to freeze all the layers in the above model with names not having ''`detection`'' word as prefix."
      ]
    },
    {
      "cell_type": "code",
      "metadata": {
        "id": "snOulB0wt7_t",
        "colab_type": "code",
        "colab": {}
      },
      "source": [
        "for layer_key in model_layer:\n",
        "  if('detection'  not in layer_key): \n",
        "    model_layer[layer_key].trainable = False"
      ],
      "execution_count": 0,
      "outputs": []
    },
    {
      "cell_type": "markdown",
      "metadata": {
        "id": "n1IIGWM2c3x-",
        "colab_type": "text"
      },
      "source": [
        "### After making the model ready for transfer learning, load the weights of the model given in file ''`mobilenet_1_0_224_tf.h5`''"
      ]
    },
    {
      "cell_type": "code",
      "metadata": {
        "id": "On-Ura_Fb5ly",
        "colab_type": "code",
        "colab": {}
      },
      "source": [
        "import os\n",
        "os.chdir('/content/drive/My Drive/AIML/Face Detection/')"
      ],
      "execution_count": 0,
      "outputs": []
    },
    {
      "cell_type": "code",
      "metadata": {
        "id": "lmCmRr2Rc2Sv",
        "colab_type": "code",
        "colab": {}
      },
      "source": [
        "classification_model = 'mobilenet_1_0_224_tf.h5'\n",
        "model.load_weights(classification_model,  by_name= True)"
      ],
      "execution_count": 0,
      "outputs": []
    },
    {
      "cell_type": "markdown",
      "metadata": {
        "id": "73KNzDSCf6Rh",
        "colab_type": "text"
      },
      "source": [
        "#### Using the functions given in the model, we are trying to divide the dataset into train and validation samples. Run the below code."
      ]
    },
    {
      "cell_type": "code",
      "metadata": {
        "id": "4_pZEU8TfBoR",
        "colab_type": "code",
        "outputId": "4385e8c0-5e8c-4968-bb53-a14a99fe6d05",
        "colab": {
          "base_uri": "https://localhost:8080/",
          "height": 240
        }
      },
      "source": [
        "batch_size = 32\n",
        "ssd_box_encoder = SSDBoxEncoder(img_height=img_height,\n",
        "                                img_width=img_width,\n",
        "                                n_classes=n_classes, \n",
        "                                predictor_sizes=predictor_sizes,\n",
        "                                min_scale=None,\n",
        "                                max_scale=None,\n",
        "                                scales=scales,\n",
        "                                aspect_ratios_global=None,\n",
        "                                aspect_ratios_per_layer=aspect_ratios,\n",
        "                                two_boxes_for_ar1=two_boxes_for_ar1,\n",
        "                                limit_boxes=limit_boxes,\n",
        "                                variances=variances,\n",
        "                                pos_iou_threshold=0.5,\n",
        "                                neg_iou_threshold=0.2,\n",
        "                                coords=coords,\n",
        "                                normalize_coords=normalize_coords)\n",
        "\n",
        "train_dataset = BatchGenerator(images_path=train_data, \n",
        "                include_classes='all', \n",
        "                box_output_format = ['class_id', 'xmin', 'xmax', 'ymin', 'ymax'])\n",
        "\n",
        "print (\"==>TRAINING DATA\")\n",
        "print (\"==> Parsing XML files ...\")\n",
        "\n",
        "train_dataset.parse_xml(\n",
        "                  annotations_path=train_data,\n",
        "                  image_set_path='None',\n",
        "                  image_set='None',\n",
        "                  classes = class_names, \n",
        "                  exclude_truncated=False,\n",
        "                  exclude_difficult=False,\n",
        "                  ret=False, \n",
        "                  debug = False)\n",
        "print(\"==>Parsing XML Finished.\")\n",
        "\n",
        "print (\"==>Generate training batches...\")\n",
        "train_generator = train_dataset.generate(\n",
        "                 batch_size=batch_size,\n",
        "                 train=True,\n",
        "                 ssd_box_encoder=ssd_box_encoder,\n",
        "                 equalize=True,\n",
        "                 brightness=(0.5,2,0.5),\n",
        "                 flip=0.5,\n",
        "                 translate=((0, 20), (0, 30), 0.5),\n",
        "                 scale=(0.75, 1.2, 0.5),\n",
        "                 crop=False,\n",
        "                 #random_crop = (img_height,img_width,1,3), \n",
        "                 random_crop=False,\n",
        "                 resize=(img_height, img_width),\n",
        "                 #resize=False,\n",
        "                 gray=False,\n",
        "                 limit_boxes=True,\n",
        "                 include_thresh=0.4,\n",
        "                 diagnostics=False)\n",
        "\n",
        "print (\"==>Training batch generation complete\")\n",
        "\n",
        "n_train_samples = train_dataset.get_n_samples()\n",
        "\n",
        "print (\"==>Total number of training samples = {}\".format(n_train_samples))\n",
        "\n",
        "# Now repeat above steps for validation data \n",
        "\n",
        "print (\"==>VALIDATION\")\n",
        "\n",
        "val_dataset = BatchGenerator(images_path=test_data, include_classes='all', \n",
        "                box_output_format = ['class_id', 'xmin', 'xmax', 'ymin', 'ymax'])\n",
        "\n",
        "print (\"==> Parsing XML files ...\")\n",
        "\n",
        "\n",
        "val_dataset.parse_xml(\n",
        "                  annotations_path=test_data,\n",
        "                  image_set_path='None',\n",
        "                  image_set='None',\n",
        "                  classes = class_names, \n",
        "                  exclude_truncated=False,\n",
        "                  exclude_difficult=False,\n",
        "                  ret=False, \n",
        "                  debug = False)\n",
        "\n",
        "\n",
        "print(\"==>Parsing XML Finished.\")\n",
        "\n",
        "\n",
        "print (\"==>Generate training batches...\")\n",
        "val_generator = val_dataset.generate(\n",
        "                 batch_size=batch_size,\n",
        "                 train=True,\n",
        "                 ssd_box_encoder=ssd_box_encoder,\n",
        "                 equalize=False,\n",
        "                 brightness=False,\n",
        "                 flip=False,\n",
        "                 translate=False,\n",
        "                 scale=False,\n",
        "                 crop=False,\n",
        "                 #random_crop = (img_height,img_width,1,3), \n",
        "                 random_crop=False, \n",
        "                 resize=(img_height, img_width), \n",
        "                 #resize=False, \n",
        "                 gray=False,\n",
        "                 limit_boxes=True,\n",
        "                 include_thresh=0.4,\n",
        "                 diagnostics=False)\n",
        "\n",
        "\n",
        "print (\"==>Training batch generation complete\")\n",
        "\n",
        "n_val_samples = val_dataset.get_n_samples()\n",
        "\n",
        "print (\"==>Total number of validation samples = {}\".format(n_val_samples))"
      ],
      "execution_count": 0,
      "outputs": [
        {
          "output_type": "stream",
          "text": [
            "==>TRAINING DATA\n",
            "==> Parsing XML files ...\n",
            "==>Parsing XML Finished.\n",
            "==>Generate training batches...\n",
            "==>Training batch generation complete\n",
            "==>Total number of training samples = 128\n",
            "==>VALIDATION\n",
            "==> Parsing XML files ...\n",
            "==>Parsing XML Finished.\n",
            "==>Generate training batches...\n",
            "==>Training batch generation complete\n",
            "==>Total number of validation samples = 60\n"
          ],
          "name": "stdout"
        }
      ]
    },
    {
      "cell_type": "markdown",
      "metadata": {
        "id": "4KtkdFTQhKlE",
        "colab_type": "text"
      },
      "source": [
        "### Now, lets setup things for training by initilaizing required variables like learning rate, epochs, optimizer and loss function(SSDLoss) to compile the model"
      ]
    },
    {
      "cell_type": "code",
      "metadata": {
        "id": "g1-3OOPmgmxk",
        "colab_type": "code",
        "outputId": "aaecd06d-672c-4690-c47d-d4a49cd39a18",
        "colab": {
          "base_uri": "https://localhost:8080/",
          "height": 148
        }
      },
      "source": [
        "# setting up training \n",
        "\n",
        "# batch_size and no.of epochs\n",
        "\n",
        "batch_size = 16\n",
        "num_epochs = 10\n",
        "\n",
        "#Learning rate\n",
        "base_lr = 0.002\n",
        "\n",
        "# Optimizer\n",
        "adam = Adam(lr=base_lr, beta_1=0.9, beta_2=0.999, epsilon=1e-6, decay = 0.0)\n",
        "\n",
        "# Loss\n",
        "ssd_loss = SSDLoss(neg_pos_ratio=2, n_neg_min=0, alpha=1.0, beta = 1.0)\n",
        "\n",
        "# Compile\n",
        "model.compile(optimizer=adam, loss=ssd_loss.compute_loss)"
      ],
      "execution_count": 0,
      "outputs": [
        {
          "output_type": "stream",
          "text": [
            "WARNING:tensorflow:From /content/drive/My Drive/AIML/Face Detection/keras_ssd_loss.py:129: to_float (from tensorflow.python.ops.math_ops) is deprecated and will be removed in a future version.\n",
            "Instructions for updating:\n",
            "Use tf.cast instead.\n",
            "WARNING:tensorflow:From /content/drive/My Drive/AIML/Face Detection/keras_ssd_loss.py:162: to_int32 (from tensorflow.python.ops.math_ops) is deprecated and will be removed in a future version.\n",
            "Instructions for updating:\n",
            "Use tf.cast instead.\n"
          ],
          "name": "stdout"
        }
      ]
    },
    {
      "cell_type": "markdown",
      "metadata": {
        "id": "ugJ68M7_vDqy",
        "colab_type": "text"
      },
      "source": [
        "#### Write code for early_stopping and model_checkpoint layers. Using model.fit_generator train the model and save the best weight file."
      ]
    },
    {
      "cell_type": "code",
      "metadata": {
        "id": "EeO-T9jwi8be",
        "colab_type": "code",
        "outputId": "2dc74307-ca12-4df8-b544-efca5fa33386",
        "colab": {
          "base_uri": "https://localhost:8080/",
          "height": 964
        }
      },
      "source": [
        "num_epochs = 10\n",
        "epochs=10\n",
        "def scheduler(epoch):\n",
        "  if epoch%10==0 and epoch!=0:\n",
        "    lr = K.get_value(model.optimizer.lr)\n",
        "    K.set_value(model.optimizer.lr, lr*.95)\n",
        "    print(\"lr changed to {}\".format(lr*.95))\n",
        "  else: \n",
        "    print(\"lr remains {}\".format(K.get_value(model.optimizer.lr)))\n",
        "\n",
        "  return K.get_value(model.optimizer.lr)\n",
        "\n",
        "lr_schedule = LearningRateScheduler(scheduler)\n",
        "\n",
        "early_stopping = EarlyStopping(monitor='val_loss', min_delta=0.001, patience=100)\n",
        "model_checkpoint =  ModelCheckpoint('ssd_mobilenet_face_epoch_{epoch:02d}_loss{val_loss:.4f}.h5',\n",
        "                                                           monitor='val_loss',\n",
        "                                                           verbose=1,\n",
        "                                                           save_best_only=True,\n",
        "                                                           save_weights_only=True,\n",
        "                                                           mode='auto',\n",
        "                                                           period=1)\n",
        "\n",
        "print (\"training starting...\")\n",
        "history = model.fit_generator(generator = train_generator,\n",
        "                              steps_per_epoch = ceil(n_train_samples/batch_size)*2,\n",
        "                              epochs = num_epochs,\n",
        "                              callbacks = [model_checkpoint, lr_schedule, early_stopping],                      \n",
        "                              validation_data = val_generator,\n",
        "                              validation_steps = ceil(n_val_samples/batch_size))\n",
        "\n",
        "model.save_weights('ssd_mobilenet_weights_epoch_{}.h5'.format(epochs))\n"
      ],
      "execution_count": 0,
      "outputs": [
        {
          "output_type": "stream",
          "text": [
            "training starting...\n",
            "Epoch 1/10\n",
            "lr remains 0.0020000000949949026\n",
            "16/16 [==============================] - 38s 2s/step - loss: 0.1988 - val_loss: 0.2275\n",
            "\n",
            "Epoch 00001: val_loss improved from inf to 0.22747, saving model to ssd_mobilenet_face_epoch_01_loss0.2275.h5\n",
            "Epoch 2/10\n",
            "lr remains 0.0020000000949949026\n",
            "16/16 [==============================] - 31s 2s/step - loss: 0.2035 - val_loss: 0.2234\n",
            "\n",
            "Epoch 00002: val_loss improved from 0.22747 to 0.22343, saving model to ssd_mobilenet_face_epoch_02_loss0.2234.h5\n",
            "Epoch 3/10\n",
            "lr remains 0.0020000000949949026\n",
            "16/16 [==============================] - 31s 2s/step - loss: 0.2005 - val_loss: 0.2196\n",
            "\n",
            "Epoch 00003: val_loss improved from 0.22343 to 0.21964, saving model to ssd_mobilenet_face_epoch_03_loss0.2196.h5\n",
            "Epoch 4/10\n",
            "lr remains 0.0020000000949949026\n",
            "16/16 [==============================] - 33s 2s/step - loss: 0.2022 - val_loss: 0.2205\n",
            "\n",
            "Epoch 00004: val_loss did not improve from 0.21964\n",
            "Epoch 5/10\n",
            "lr remains 0.0020000000949949026\n",
            "16/16 [==============================] - 31s 2s/step - loss: 0.1964 - val_loss: 0.2196\n",
            "\n",
            "Epoch 00005: val_loss improved from 0.21964 to 0.21963, saving model to ssd_mobilenet_face_epoch_05_loss0.2196.h5\n",
            "Epoch 6/10\n",
            "lr remains 0.0020000000949949026\n",
            "16/16 [==============================] - 32s 2s/step - loss: 0.1931 - val_loss: 0.2161\n",
            "\n",
            "Epoch 00006: val_loss improved from 0.21963 to 0.21607, saving model to ssd_mobilenet_face_epoch_06_loss0.2161.h5\n",
            "Epoch 7/10\n",
            "lr remains 0.0020000000949949026\n",
            "16/16 [==============================] - 31s 2s/step - loss: 0.2005 - val_loss: 0.2190\n",
            "\n",
            "Epoch 00007: val_loss did not improve from 0.21607\n",
            "Epoch 8/10\n",
            "lr remains 0.0020000000949949026\n",
            "16/16 [==============================] - 30s 2s/step - loss: 0.1944 - val_loss: 0.2182\n",
            "\n",
            "Epoch 00008: val_loss did not improve from 0.21607\n",
            "Epoch 9/10\n",
            "lr remains 0.0020000000949949026\n",
            "16/16 [==============================] - 32s 2s/step - loss: 0.1962 - val_loss: 0.2153\n",
            "\n",
            "Epoch 00009: val_loss improved from 0.21607 to 0.21533, saving model to ssd_mobilenet_face_epoch_09_loss0.2153.h5\n",
            "Epoch 10/10\n",
            "lr remains 0.0020000000949949026\n",
            "16/16 [==============================] - 31s 2s/step - loss: 0.1963 - val_loss: 0.2120\n",
            "\n",
            "Epoch 00010: val_loss improved from 0.21533 to 0.21196, saving model to ssd_mobilenet_face_epoch_10_loss0.2120.h5\n"
          ],
          "name": "stdout"
        }
      ]
    },
    {
      "cell_type": "markdown",
      "metadata": {
        "id": "U3FHrp77jdOx",
        "colab_type": "text"
      },
      "source": [
        "### Load the best saved model from above step and check predictions for test data using test_generator object to generate batches."
      ]
    },
    {
      "cell_type": "markdown",
      "metadata": {
        "id": "S7eP30cxvcEA",
        "colab_type": "text"
      },
      "source": [
        "#### Write code in the below cell to load best saved model in the above step."
      ]
    },
    {
      "cell_type": "code",
      "metadata": {
        "id": "nh7tMrxFjR4B",
        "colab_type": "code",
        "colab": {}
      },
      "source": [
        "model_name = 'ssd_mobilenet_face_epoch_10_loss0.2120.h5'\n",
        "model.load_weights(model_name,  by_name= True)"
      ],
      "execution_count": 0,
      "outputs": []
    },
    {
      "cell_type": "markdown",
      "metadata": {
        "id": "6dD7q7pzqvnh",
        "colab_type": "text"
      },
      "source": [
        "### Use the below function to plot the boundingbox in the test image to show the predictions."
      ]
    },
    {
      "cell_type": "code",
      "metadata": {
        "id": "h89fe5NGqwI9",
        "colab_type": "code",
        "colab": {}
      },
      "source": [
        "def save_bb(path, filename, results, prediction=True):\n",
        "  \n",
        "  # print filename\n",
        "\n",
        "  img = image.load_img(filename, target_size=(img_height, img_width))\n",
        "  img = image.img_to_array(img)\n",
        "\n",
        "  filename = filename.split(\"/\")[-1]\n",
        "\n",
        "  if(not prediction):\n",
        "    filename = filename[:-4] + \"_gt\" + \".jpg\"\n",
        "\n",
        "  #fig,currentAxis = plt.subplots(1)\n",
        "  currentAxis = plt.gca()\n",
        "\n",
        " # Get detections with confidence higher than 0.6.\n",
        "  colors = plt.cm.hsv(np.linspace(0, 1, 25)).tolist()\n",
        "  color_code = min(len(results), 16)\n",
        "  print (colored(\"total number of bbs: %d\" % len(results), \"yellow\"))\n",
        "  for result in results:\n",
        "    # Parse the outputs.\n",
        "\n",
        "    if(prediction):\n",
        "      det_label = result[0]\n",
        "      det_conf = result[1]\n",
        "      det_xmin = result[2]\n",
        "      det_xmax = result[3]\n",
        "      det_ymin = result[4]\n",
        "      det_ymax = result[5]\n",
        "    else :\n",
        "      det_label = result[0]\n",
        "      det_xmin = result[1]\n",
        "      det_xmax = result[2]\n",
        "      det_ymin = result[3]\n",
        "      det_ymax = result[4]\n",
        "\n",
        "    xmin = int(det_xmin)\n",
        "    ymin = int(det_ymin)\n",
        "    xmax = int(det_xmax)\n",
        "    ymax = int(det_ymax)\n",
        "\n",
        "    if(prediction):\n",
        "      score = det_conf\n",
        "    \n",
        "    plt.imshow(img / 255.)\n",
        "    \n",
        "    label = int(int(det_label))\n",
        "    label_name = class_names[label]\n",
        "    # print label_name \n",
        "    # print label\n",
        "\n",
        "    if(prediction):\n",
        "      display_txt = '{:0.2f}'.format(score)\n",
        "    else:\n",
        "      display_txt = '{}'.format(label_name)\n",
        "\n",
        "      \n",
        "    # print (xmin, ymin, ymin, ymax)\n",
        "    coords = (xmin, ymin), (xmax-xmin), (ymax-ymin)\n",
        "    color_code = color_code-1 \n",
        "    color = colors[color_code]\n",
        "    currentAxis.add_patch(plt.Rectangle(*coords, fill=False, edgecolor=color, linewidth=2))\n",
        "    currentAxis.text(xmin, ymin, display_txt, bbox={'facecolor':color, 'alpha':0.2})\n",
        "\n",
        "  # y\n",
        "  currentAxis.axes.get_yaxis().set_visible(False)\n",
        "  # x\n",
        "  currentAxis.axes.get_xaxis().set_visible(False)\n",
        "  plt.savefig(path + filename, bbox_inches='tight')\n",
        "\n",
        "  print ('saved' , path + filename)\n",
        "\n",
        "  plt.clf()\n"
      ],
      "execution_count": 0,
      "outputs": []
    },
    {
      "cell_type": "markdown",
      "metadata": {
        "id": "RrMdNhMtwE3t",
        "colab_type": "text"
      },
      "source": [
        "#### Run the below code to create a folder with name output_test and get the predictions for the test images using model.predict()"
      ]
    },
    {
      "cell_type": "code",
      "metadata": {
        "id": "1Sep0lG3vR0R",
        "colab_type": "code",
        "colab": {}
      },
      "source": [
        "!mkdir output_test"
      ],
      "execution_count": 0,
      "outputs": []
    },
    {
      "cell_type": "code",
      "metadata": {
        "id": "70s6RPuInpqo",
        "colab_type": "code",
        "outputId": "cdc68c27-f702-4441-a76a-a2dc3a655246",
        "colab": {
          "base_uri": "https://localhost:8080/",
          "height": 1380
        }
      },
      "source": [
        "from keras.preprocessing import image\n",
        "from matplotlib import pyplot as plt\n",
        "\n",
        "test_size = 16\n",
        "test_generator = val_dataset.generate(\n",
        "                 batch_size=test_size,\n",
        "                 train=False,\n",
        "                 ssd_box_encoder=ssd_box_encoder,\n",
        "                 equalize=False,\n",
        "                 brightness=False,\n",
        "                 flip=False,\n",
        "                 translate=False,\n",
        "                 scale=False,\n",
        "                 crop=False,\n",
        "                 #random_crop = (img_height,img_width,1,3), \n",
        "                 random_crop=False, \n",
        "                 resize=(img_height, img_width), \n",
        "                 #resize=False,\n",
        "                 gray=False,\n",
        "                 limit_boxes=True,\n",
        "                 include_thresh=0.4,\n",
        "                 diagnostics=False)\n",
        "\n",
        "print (colored(\"done.\", \"green\"))\n",
        "\n",
        "print (colored(\"now predicting...\", \"yellow\"))\n",
        "\n",
        "_CONF = 0.60 \n",
        "_IOU = 0.15\n",
        "\n",
        "for i in range(test_size):\n",
        "    X, y, filenames = next(test_generator)\n",
        "\n",
        "    y_pred = model.predict(X)\n",
        "    y_pred_decoded = decode_y2(y_pred,\n",
        "                             confidence_thresh=_CONF,\n",
        "                            iou_threshold=_IOU,\n",
        "                            top_k='all',\n",
        "                            input_coords=coords,\n",
        "                            normalize_coords=normalize_coords,\n",
        "                            img_height=img_height,\n",
        "                            img_width=img_width)\n",
        "\n",
        "\n",
        "    np.set_printoptions(suppress=True)\n",
        "\n",
        "    save_bb(\"./output_test/\", filenames[i], y_pred_decoded[i])\n",
        "    save_bb(\"./output_test/\", filenames[i], y[i], prediction=False)\n"
      ],
      "execution_count": 0,
      "outputs": [
        {
          "output_type": "stream",
          "text": [
            "\u001b[32mdone.\u001b[0m\n",
            "\u001b[33mnow predicting...\u001b[0m\n",
            "\u001b[33mtotal number of bbs: 2\u001b[0m\n",
            "saved ./output_test/12_Group_Team_Organized_Group_12_Group_Team_Organized_Group_12_83.jpg\n",
            "\u001b[33mtotal number of bbs: 16\u001b[0m\n",
            "saved ./output_test/12_Group_Team_Organized_Group_12_Group_Team_Organized_Group_12_83_gt.jpg\n",
            "\u001b[33mtotal number of bbs: 2\u001b[0m\n",
            "saved ./output_test/47_Matador_Bullfighter_Matador_Bullfighter_47_617.jpg\n",
            "\u001b[33mtotal number of bbs: 1\u001b[0m\n",
            "saved ./output_test/47_Matador_Bullfighter_Matador_Bullfighter_47_617_gt.jpg\n",
            "\u001b[33mtotal number of bbs: 0\u001b[0m\n",
            "saved ./output_test/35_Basketball_playingbasketball_35_362.jpg\n",
            "\u001b[33mtotal number of bbs: 3\u001b[0m\n",
            "saved ./output_test/35_Basketball_playingbasketball_35_362_gt.jpg\n",
            "\u001b[33mtotal number of bbs: 1\u001b[0m\n",
            "saved ./output_test/2_Demonstration_Political_Rally_2_219.jpg\n",
            "\u001b[33mtotal number of bbs: 1\u001b[0m\n",
            "saved ./output_test/2_Demonstration_Political_Rally_2_219_gt.jpg\n",
            "\u001b[33mtotal number of bbs: 0\u001b[0m\n",
            "saved ./output_test/44_Aerobics_Aerobics_44_184.jpg\n",
            "\u001b[33mtotal number of bbs: 1\u001b[0m\n",
            "saved ./output_test/44_Aerobics_Aerobics_44_184_gt.jpg\n",
            "\u001b[33mtotal number of bbs: 2\u001b[0m\n",
            "saved ./output_test/35_Basketball_basketballgame_ball_35_542.jpg\n",
            "\u001b[33mtotal number of bbs: 3\u001b[0m\n",
            "saved ./output_test/35_Basketball_basketballgame_ball_35_542_gt.jpg\n",
            "\u001b[33mtotal number of bbs: 1\u001b[0m\n",
            "saved ./output_test/2_Demonstration_Political_Rally_2_800.jpg\n",
            "\u001b[33mtotal number of bbs: 1\u001b[0m\n",
            "saved ./output_test/2_Demonstration_Political_Rally_2_800_gt.jpg\n",
            "\u001b[33mtotal number of bbs: 4\u001b[0m\n",
            "saved ./output_test/2_Demonstration_Demonstration_Or_Protest_2_367.jpg\n",
            "\u001b[33mtotal number of bbs: 9\u001b[0m\n",
            "saved ./output_test/2_Demonstration_Demonstration_Or_Protest_2_367_gt.jpg\n",
            "\u001b[33mtotal number of bbs: 1\u001b[0m\n",
            "saved ./output_test/35_Basketball_playingbasketball_35_417.jpg\n",
            "\u001b[33mtotal number of bbs: 16\u001b[0m\n",
            "saved ./output_test/35_Basketball_playingbasketball_35_417_gt.jpg\n",
            "\u001b[33mtotal number of bbs: 2\u001b[0m\n",
            "saved ./output_test/12_Group_Team_Organized_Group_12_Group_Team_Organized_Group_12_21.jpg\n",
            "\u001b[33mtotal number of bbs: 5\u001b[0m\n",
            "saved ./output_test/12_Group_Team_Organized_Group_12_Group_Team_Organized_Group_12_21_gt.jpg\n",
            "\u001b[33mtotal number of bbs: 3\u001b[0m\n",
            "saved ./output_test/2_Demonstration_Political_Rally_2_187.jpg\n",
            "\u001b[33mtotal number of bbs: 7\u001b[0m\n",
            "saved ./output_test/2_Demonstration_Political_Rally_2_187_gt.jpg\n",
            "\u001b[33mtotal number of bbs: 0\u001b[0m\n",
            "saved ./output_test/28_Sports_Fan_Sports_Fan_28_590.jpg\n",
            "\u001b[33mtotal number of bbs: 9\u001b[0m\n",
            "saved ./output_test/28_Sports_Fan_Sports_Fan_28_590_gt.jpg\n",
            "\u001b[33mtotal number of bbs: 0\u001b[0m\n",
            "saved ./output_test/26_Soldier_Drilling_Soldiers_Drilling_26_393.jpg\n",
            "\u001b[33mtotal number of bbs: 5\u001b[0m\n",
            "saved ./output_test/26_Soldier_Drilling_Soldiers_Drilling_26_393_gt.jpg\n",
            "\u001b[33mtotal number of bbs: 2\u001b[0m\n",
            "saved ./output_test/21_Festival_Festival_21_395.jpg\n",
            "\u001b[33mtotal number of bbs: 9\u001b[0m\n",
            "saved ./output_test/21_Festival_Festival_21_395_gt.jpg\n",
            "\u001b[33mtotal number of bbs: 1\u001b[0m\n",
            "saved ./output_test/30_Surgeons_Surgeons_30_554.jpg\n",
            "\u001b[33mtotal number of bbs: 6\u001b[0m\n",
            "saved ./output_test/30_Surgeons_Surgeons_30_554_gt.jpg\n"
          ],
          "name": "stdout"
        },
        {
          "output_type": "error",
          "ename": "IndexError",
          "evalue": "ignored",
          "traceback": [
            "\u001b[0;31m---------------------------------------------------------------------------\u001b[0m",
            "\u001b[0;31mIndexError\u001b[0m                                Traceback (most recent call last)",
            "\u001b[0;32m<ipython-input-34-58d50d612371>\u001b[0m in \u001b[0;36m<module>\u001b[0;34m()\u001b[0m\n\u001b[1;32m     45\u001b[0m     \u001b[0mnp\u001b[0m\u001b[0;34m.\u001b[0m\u001b[0mset_printoptions\u001b[0m\u001b[0;34m(\u001b[0m\u001b[0msuppress\u001b[0m\u001b[0;34m=\u001b[0m\u001b[0;32mTrue\u001b[0m\u001b[0;34m)\u001b[0m\u001b[0;34m\u001b[0m\u001b[0;34m\u001b[0m\u001b[0m\n\u001b[1;32m     46\u001b[0m \u001b[0;34m\u001b[0m\u001b[0m\n\u001b[0;32m---> 47\u001b[0;31m     \u001b[0msave_bb\u001b[0m\u001b[0;34m(\u001b[0m\u001b[0;34m\"./output_test/\"\u001b[0m\u001b[0;34m,\u001b[0m \u001b[0mfilenames\u001b[0m\u001b[0;34m[\u001b[0m\u001b[0mi\u001b[0m\u001b[0;34m]\u001b[0m\u001b[0;34m,\u001b[0m \u001b[0my_pred_decoded\u001b[0m\u001b[0;34m[\u001b[0m\u001b[0mi\u001b[0m\u001b[0;34m]\u001b[0m\u001b[0;34m)\u001b[0m\u001b[0;34m\u001b[0m\u001b[0;34m\u001b[0m\u001b[0m\n\u001b[0m\u001b[1;32m     48\u001b[0m     \u001b[0msave_bb\u001b[0m\u001b[0;34m(\u001b[0m\u001b[0;34m\"./output_test/\"\u001b[0m\u001b[0;34m,\u001b[0m \u001b[0mfilenames\u001b[0m\u001b[0;34m[\u001b[0m\u001b[0mi\u001b[0m\u001b[0;34m]\u001b[0m\u001b[0;34m,\u001b[0m \u001b[0my\u001b[0m\u001b[0;34m[\u001b[0m\u001b[0mi\u001b[0m\u001b[0;34m]\u001b[0m\u001b[0;34m,\u001b[0m \u001b[0mprediction\u001b[0m\u001b[0;34m=\u001b[0m\u001b[0;32mFalse\u001b[0m\u001b[0;34m)\u001b[0m\u001b[0;34m\u001b[0m\u001b[0;34m\u001b[0m\u001b[0m\n",
            "\u001b[0;31mIndexError\u001b[0m: list index out of range"
          ]
        }
      ]
    },
    {
      "cell_type": "markdown",
      "metadata": {
        "id": "qLKgtPCJwena",
        "colab_type": "text"
      },
      "source": [
        "In the above step all the test images along with predictions are stored in output_test folder in this notebook environment. You can check the folder in Files section of the menu to left-side of screen in colab.\n",
        "\n",
        "Each test image is used for predictions and is stored as 2 files.\n",
        "\n",
        "one file is the original ground truth with <filename_gt.jpg>\n",
        "second file is the prediction of the model on the image. with <filename.jpg>"
      ]
    },
    {
      "cell_type": "markdown",
      "metadata": {
        "id": "TFzb3Vj9kDGH",
        "colab_type": "text"
      },
      "source": [
        "### Visualize a test image to check predictions\n",
        "\n",
        "\n",
        "#### Write code to show images: Using cv2.imshow() or matplotlib show any 3 test images and their predictions."
      ]
    },
    {
      "cell_type": "code",
      "metadata": {
        "id": "zA1lMnX4-edG",
        "colab_type": "code",
        "colab": {}
      },
      "source": [
        "import cv2\n",
        "import matplotlib.pyplot as plt\n",
        "%matplotlib inline"
      ],
      "execution_count": 0,
      "outputs": []
    },
    {
      "cell_type": "code",
      "metadata": {
        "id": "nJh_idgqi9JI",
        "colab_type": "code",
        "outputId": "a6dc6769-52c1-4be9-dd94-33a574d83036",
        "colab": {
          "base_uri": "https://localhost:8080/",
          "height": 36
        }
      },
      "source": [
        "from tqdm import tqdm\n",
        "X_predict=[]\n",
        "\n",
        "\n",
        "for i in  tqdm(os.listdir('/content/drive/My Drive/AIML/Face Detection/output_test/')):\n",
        "  \n",
        "  train_img=cv2.imread('/content/drive/My Drive/AIML/Face Detection/output_test/'+i,1)\n",
        "  \n",
        "  dummy = cv2.resize(train_img,(128,128))\n",
        "  dummy = cv2.cvtColor(dummy,cv2.COLOR_BGR2RGB)\n",
        "  X_predict.append(np.array(dummy))"
      ],
      "execution_count": 0,
      "outputs": [
        {
          "output_type": "stream",
          "text": [
            "100%|██████████| 30/30 [00:00<00:00, 240.78it/s]\n"
          ],
          "name": "stderr"
        }
      ]
    },
    {
      "cell_type": "code",
      "metadata": {
        "id": "qtQl5shljcLy",
        "colab_type": "code",
        "outputId": "3d2075b2-7c82-40b9-db3f-48d94cad3cf2",
        "colab": {
          "base_uri": "https://localhost:8080/",
          "height": 288
        }
      },
      "source": [
        "plt.imshow(X_predict[3])"
      ],
      "execution_count": 0,
      "outputs": [
        {
          "output_type": "execute_result",
          "data": {
            "text/plain": [
              "<matplotlib.image.AxesImage at 0x7fc3af66f710>"
            ]
          },
          "metadata": {
            "tags": []
          },
          "execution_count": 46
        },
        {
          "output_type": "display_data",
          "data": {
            "image/png": "[encoded data removed]",
            "text/plain": [
              "<Figure size 432x288 with 1 Axes>"
            ]
          },
          "metadata": {
            "tags": []
          }
        }
      ]
    },
    {
      "cell_type": "code",
      "metadata": {
        "id": "9uCYibHfjk24",
        "colab_type": "code",
        "outputId": "54378204-ac60-43ee-f8ce-fcb16404253f",
        "colab": {
          "base_uri": "https://localhost:8080/",
          "height": 288
        }
      },
      "source": [
        "plt.imshow(X_predict[1])"
      ],
      "execution_count": 0,
      "outputs": [
        {
          "output_type": "execute_result",
          "data": {
            "text/plain": [
              "<matplotlib.image.AxesImage at 0x7fc3af64c710>"
            ]
          },
          "metadata": {
            "tags": []
          },
          "execution_count": 47
        },
        {
          "output_type": "display_data",
          "data": {
            "image/png": "[encoded data removed]",
            "text/plain": [
              "<Figure size 432x288 with 1 Axes>"
            ]
          },
          "metadata": {
            "tags": []
          }
        }
      ]
    },
    {
      "cell_type": "code",
      "metadata": {
        "id": "L781V7sykiOE",
        "colab_type": "code",
        "outputId": "55371966-e6a6-4746-ba84-ac4d909cafe5",
        "colab": {
          "base_uri": "https://localhost:8080/",
          "height": 288
        }
      },
      "source": [
        "plt.imshow(X_predict[5])"
      ],
      "execution_count": 0,
      "outputs": [
        {
          "output_type": "execute_result",
          "data": {
            "text/plain": [
              "<matplotlib.image.AxesImage at 0x7fc3af582710>"
            ]
          },
          "metadata": {
            "tags": []
          },
          "execution_count": 49
        },
        {
          "output_type": "display_data",
          "data": {
            "image/png": "[encoded data removed]",
            "text/plain": [
              "<Figure size 432x288 with 1 Axes>"
            ]
          },
          "metadata": {
            "tags": []
          }
        }
      ]
    },
    {
      "cell_type": "code",
      "metadata": {
        "id": "HjJ8ClxYkqav",
        "colab_type": "code",
        "colab": {}
      },
      "source": [
        ""
      ],
      "execution_count": 0,
      "outputs": []
    }
  ]
}