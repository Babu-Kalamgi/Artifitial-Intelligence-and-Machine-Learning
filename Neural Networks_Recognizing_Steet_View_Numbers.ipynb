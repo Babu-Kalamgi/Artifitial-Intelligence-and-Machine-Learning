{
  "nbformat": 4,
  "nbformat_minor": 0,
  "metadata": {
    "colab": {
      "name": "Intro_NN_DL_R7_Project2 (2).ipynb",
      "version": "0.3.2",
      "provenance": [],
      "collapsed_sections": []
    },
    "kernelspec": {
      "name": "python3",
      "display_name": "Python 3"
    },
    "accelerator": "TPU"
  },
  "cells": [
    {
      "metadata": {
        "id": "SZkTmr4WsIDd",
        "colab_type": "code",
        "outputId": "672422cb-18bd-4c23-b109-6cb1222436b7",
        "colab": {
          "base_uri": "https://localhost:8080/",
          "height": 128
        }
      },
      "cell_type": "code",
      "source": [
        "from google.colab import drive\n",
        "drive.mount('/content/drive')"
      ],
      "execution_count": 0,
      "outputs": [
        {
          "output_type": "stream",
          "text": [
            "Go to this URL in a browser: https://accounts.google.com/o/oauth2/auth?client_id=947318989803-6bn6qk8qdgf4n4g3pfee6491hc0brc4i.apps.googleusercontent.com&redirect_uri=urn%3Aietf%3Awg%3Aoauth%3A2.0%3Aoob&scope=email%20https%3A%2F%2Fwww.googleapis.com%2Fauth%2Fdocs.test%20https%3A%2F%2Fwww.googleapis.com%2Fauth%2Fdrive%20https%3A%2F%2Fwww.googleapis.com%2Fauth%2Fdrive.photos.readonly%20https%3A%2F%2Fwww.googleapis.com%2Fauth%2Fpeopleapi.readonly&response_type=code\n",
            "\n",
            "Enter your authorization code:\n",
            "··········\n",
            "Mounted at /content/drive\n"
          ],
          "name": "stdout"
        }
      ]
    },
    {
      "metadata": {
        "id": "x-dverWurzsI",
        "colab_type": "code",
        "colab": {}
      },
      "cell_type": "code",
      "source": [
        "import numpy as np\n",
        "import h5py\n",
        "#Open the file as read only mode\n",
        "h5f=h5py.File('/content/drive/My Drive/Colab Notebooks/Computer_Vision/project_res7/Project/project_NN/SVHN_single_grey1.h5','r')\n",
        "\n",
        "#Load Train and test\n",
        "\n",
        "xtrain = h5f['X_train'][:]\n",
        "ytrain = h5f['y_train'][:]\n",
        "xtest = h5f['X_test'][:]\n",
        "ytest = h5f['y_test'][:]\n",
        "\n",
        "#Close the file\n",
        "h5f.close()"
      ],
      "execution_count": 0,
      "outputs": []
    },
    {
      "metadata": {
        "id": "GMg2rt15JsU5",
        "colab_type": "code",
        "outputId": "7683ebd8-e2a5-4bc0-8ddd-ab4f15245af6",
        "colab": {
          "base_uri": "https://localhost:8080/",
          "height": 134
        }
      },
      "cell_type": "code",
      "source": [
        "#Visualize the data \n",
        "import matplotlib.pyplot as plt\n",
        "plt.figure(figsize=(5,5))\n",
        "for i in range(10):\n",
        "    plt.subplot(5,5,i+1)\n",
        "    plt.xticks([])\n",
        "    plt.yticks([])\n",
        "    plt.grid(False)\n",
        "    plt.imshow(xtrain[i], cmap=plt.cm.binary)\n",
        "plt.show()\n"
      ],
      "execution_count": 0,
      "outputs": [
        {
          "output_type": "display_data",
          "data": {
            "image/png": "[encoded data removed]",
            "text/plain": [
              "<Figure size 360x360 with 10 Axes>"
            ]
          },
          "metadata": {
            "tags": []
          }
        }
      ]
    },
    {
      "metadata": {
        "id": "3A-EhJS9dtSu",
        "colab_type": "code",
        "outputId": "9869d976-5e1e-4060-b8f1-086810fbafee",
        "colab": {
          "base_uri": "https://localhost:8080/",
          "height": 34
        }
      },
      "cell_type": "code",
      "source": [
        "#Check the unique label values\n",
        "print(np.unique(ytrain))"
      ],
      "execution_count": 0,
      "outputs": [
        {
          "output_type": "stream",
          "text": [
            "[0 1 2 3 4 5 6 7 8 9]\n"
          ],
          "name": "stdout"
        }
      ]
    },
    {
      "metadata": {
        "id": "cazICTz8X1A0",
        "colab_type": "code",
        "outputId": "231f5aca-b76f-4f2c-aec4-f73468e0dae8",
        "colab": {
          "base_uri": "https://localhost:8080/",
          "height": 34
        }
      },
      "cell_type": "code",
      "source": [
        "#Have a look at the shape of the data\n",
        "xtrain.shape, ytrain.shape, xtest.shape , ytest.shape"
      ],
      "execution_count": 0,
      "outputs": [
        {
          "output_type": "execute_result",
          "data": {
            "text/plain": [
              "((42000, 32, 32), (42000,), (18000, 32, 32), (18000,))"
            ]
          },
          "metadata": {
            "tags": []
          },
          "execution_count": 109
        }
      ]
    },
    {
      "metadata": {
        "id": "rYUv4k14lpbS",
        "colab_type": "code",
        "colab": {}
      },
      "cell_type": "code",
      "source": [
        "#Reshape xtrain and xtest for the K-Nearest Neighbour Model\n",
        "xtrain = np.reshape(xtrain ,(42000,1024))\n",
        "xtest  = np.reshape(xtest ,(18000,1024))"
      ],
      "execution_count": 0,
      "outputs": []
    },
    {
      "metadata": {
        "id": "CodQ95oMu4El",
        "colab_type": "code",
        "colab": {}
      },
      "cell_type": "code",
      "source": [
        "#As the input is large, its taking longer time to run a KNN model. So, creating smaller subsets of data.\n",
        "xtrain_knn =xtrain[:1000]\n",
        "ytrain_knn =ytrain[:1000]"
      ],
      "execution_count": 0,
      "outputs": []
    },
    {
      "metadata": {
        "id": "F2VNnPRbvhhJ",
        "colab_type": "code",
        "outputId": "ea416d4c-e7f1-4904-a175-d77f321d9462",
        "colab": {
          "base_uri": "https://localhost:8080/",
          "height": 34
        }
      },
      "cell_type": "code",
      "source": [
        "xtrain_knn.shape,ytrain_knn.shape"
      ],
      "execution_count": 0,
      "outputs": [
        {
          "output_type": "execute_result",
          "data": {
            "text/plain": [
              "((1000, 1024), (1000,))"
            ]
          },
          "metadata": {
            "tags": []
          },
          "execution_count": 8
        }
      ]
    },
    {
      "metadata": {
        "id": "QtqhBdVKvmuD",
        "colab_type": "code",
        "colab": {}
      },
      "cell_type": "code",
      "source": [
        "xtest_knn =xtest[:3000]\n",
        "ytest_knn =ytest[:3000]"
      ],
      "execution_count": 0,
      "outputs": []
    },
    {
      "metadata": {
        "id": "-ctUq5Y6scxD",
        "colab_type": "code",
        "colab": {}
      },
      "cell_type": "code",
      "source": [
        "#Build KNN Model to find the best value with misclassification error\n",
        "a =[]\n",
        "j = []\n",
        "def knnvalue(k):\n",
        "    from sklearn.neighbors import KNeighborsClassifier\n",
        "    NNH = KNeighborsClassifier(n_neighbors= k , weights = 'uniform', metric='euclidean')\n",
        "    NNH.fit(xtrain_knn, ytrain_knn)\n",
        "    predicted_labels = NNH.predict(xtest_knn)\n",
        "    from sklearn.metrics import accuracy_score\n",
        "    ascore = accuracy_score(ytest_knn, predicted_labels)\n",
        "    MSE = 1-ascore\n",
        "    a.append(MSE)\n",
        "    j.append(k)\n",
        "    print(MSE) "
      ],
      "execution_count": 0,
      "outputs": []
    },
    {
      "metadata": {
        "id": "QlQ3eGUlscts",
        "colab_type": "code",
        "outputId": "c18aa765-d224-40c8-ab7f-0cec678ff44f",
        "colab": {
          "base_uri": "https://localhost:8080/",
          "height": 168
        }
      },
      "cell_type": "code",
      "source": [
        "#RUn KNN for kvalue in a loop\n",
        "for i in range(1,19,2):\n",
        "  knnvalue(i)"
      ],
      "execution_count": 0,
      "outputs": [
        {
          "output_type": "stream",
          "text": [
            "0.751\n",
            "0.754\n",
            "0.7486666666666666\n",
            "0.75\n",
            "0.7533333333333333\n",
            "0.7556666666666667\n",
            "0.767\n",
            "0.761\n",
            "0.7563333333333333\n"
          ],
          "name": "stdout"
        }
      ]
    },
    {
      "metadata": {
        "id": "vYUNYoQ6scrA",
        "colab_type": "code",
        "outputId": "01c92aba-2b29-4dd3-d5d7-6b5f3817dcb0",
        "colab": {
          "base_uri": "https://localhost:8080/",
          "height": 353
        }
      },
      "cell_type": "code",
      "source": [
        "#Now lets us run KNN till k value of 40\n",
        "for i in range(1,40,2):\n",
        "  knnvalue(i)"
      ],
      "execution_count": 0,
      "outputs": [
        {
          "output_type": "stream",
          "text": [
            "0.751\n",
            "0.754\n",
            "0.7486666666666666\n",
            "0.75\n",
            "0.7533333333333333\n",
            "0.7556666666666667\n",
            "0.767\n",
            "0.761\n",
            "0.7563333333333333\n",
            "0.76\n",
            "0.7616666666666667\n",
            "0.7673333333333333\n",
            "0.7683333333333333\n",
            "0.7626666666666666\n",
            "0.7666666666666666\n",
            "0.77\n",
            "0.7716666666666667\n",
            "0.7723333333333333\n",
            "0.775\n",
            "0.779\n"
          ],
          "name": "stdout"
        }
      ]
    },
    {
      "metadata": {
        "id": "16AlNBl2sclQ",
        "colab_type": "code",
        "colab": {}
      },
      "cell_type": "code",
      "source": [
        "#From the above run, the max value is attained at k value of 39. Now lets train the model for k value of \n",
        "#30 and print the metrics\n",
        "from sklearn.neighbors import KNeighborsClassifier\n",
        "NNH = KNeighborsClassifier(n_neighbors= 39 , weights = 'uniform', metric='euclidean')\n",
        "NNH.fit(xtrain_knn, ytrain_knn)\n",
        "pred=NNH.predict(xtest_knn)"
      ],
      "execution_count": 0,
      "outputs": []
    },
    {
      "metadata": {
        "id": "pu0OEojTscVy",
        "colab_type": "code",
        "outputId": "50572da5-c51e-4cbe-b110-84b72052d2a3",
        "colab": {
          "base_uri": "https://localhost:8080/",
          "height": 319
        }
      },
      "cell_type": "code",
      "source": [
        "#Print Classification Report \n",
        "from sklearn.metrics import classification_report\n",
        "print(\"Classification report\")\n",
        "print(classification_report(ytest_knn, pred))\n",
        "\n"
      ],
      "execution_count": 0,
      "outputs": [
        {
          "output_type": "stream",
          "text": [
            "Classification report\n",
            "              precision    recall  f1-score   support\n",
            "\n",
            "           0       0.24      0.35      0.28       322\n",
            "           1       0.27      0.29      0.28       289\n",
            "           2       0.18      0.33      0.23       295\n",
            "           3       0.22      0.12      0.16       272\n",
            "           4       0.22      0.39      0.28       301\n",
            "           5       0.27      0.15      0.19       319\n",
            "           6       0.18      0.24      0.21       303\n",
            "           7       0.37      0.21      0.27       294\n",
            "           8       0.20      0.01      0.01       302\n",
            "           9       0.17      0.11      0.13       303\n",
            "\n",
            "   micro avg       0.22      0.22      0.22      3000\n",
            "   macro avg       0.23      0.22      0.20      3000\n",
            "weighted avg       0.23      0.22      0.20      3000\n",
            "\n"
          ],
          "name": "stdout"
        }
      ]
    },
    {
      "metadata": {
        "id": "mVU4PR39scSc",
        "colab_type": "code",
        "outputId": "f7640cc5-a9d7-4bd5-df0b-f912a27bb168",
        "colab": {
          "base_uri": "https://localhost:8080/",
          "height": 202
        }
      },
      "cell_type": "code",
      "source": [
        "#Print Confusion Matrix\n",
        "from sklearn.metrics import confusion_matrix\n",
        "print (\"Confusion matrix\")\n",
        "print(confusion_matrix(ytest_knn,pred))"
      ],
      "execution_count": 0,
      "outputs": [
        {
          "output_type": "stream",
          "text": [
            "Confusion matrix\n",
            "[[113  24  43   8  44  10  50   7   4  19]\n",
            " [ 23  84  46  15  59   7  26  15   0  14]\n",
            " [ 37  24  98   6  50   9  25  25   1  20]\n",
            " [ 31  30  56  34  35  31  29  11   1  14]\n",
            " [ 33  22  41  14 118   5  41   9   1  17]\n",
            " [ 43  30  59  21  56  47  35   9   0  19]\n",
            " [ 45  29  51  17  46  16  73  10   1  15]\n",
            " [ 33  28  65  20  36   8  32  61   0  11]\n",
            " [ 64  19  42  14  55  20  51   6   2  29]\n",
            " [ 58  21  56   7  49  23  44  12   0  33]]\n"
          ],
          "name": "stdout"
        }
      ]
    },
    {
      "metadata": {
        "id": "Cj3uCa8gscPJ",
        "colab_type": "code",
        "colab": {}
      },
      "cell_type": "code",
      "source": [
        "#Now Building a Deep Nueral Network Model\n",
        "import tensorflow as tf"
      ],
      "execution_count": 0,
      "outputs": []
    },
    {
      "metadata": {
        "id": "6Xvg7Wb4gocD",
        "colab_type": "code",
        "colab": {}
      },
      "cell_type": "code",
      "source": [
        "#COnvert ytrain and ytest to categorical\n",
        "ytrain = tf.keras.utils.to_categorical(ytrain, num_classes=10)\n",
        "ytest = tf.keras.utils.to_categorical(ytest, num_classes=10)"
      ],
      "execution_count": 0,
      "outputs": []
    },
    {
      "metadata": {
        "id": "xrOld2OYm3Xj",
        "colab_type": "code",
        "outputId": "7f635015-3a44-45c6-8669-9bcf8002358e",
        "colab": {
          "base_uri": "https://localhost:8080/",
          "height": 35
        }
      },
      "cell_type": "code",
      "source": [
        "xtrain.shape,ytrain.shape,xtest.shape,ytest.shape"
      ],
      "execution_count": 0,
      "outputs": [
        {
          "output_type": "execute_result",
          "data": {
            "text/plain": [
              "((42000, 32, 32), (42000, 10), (18000, 32, 32), (18000, 10))"
            ]
          },
          "metadata": {
            "tags": []
          },
          "execution_count": 5
        }
      ]
    },
    {
      "metadata": {
        "id": "JyBukLD-kWGq",
        "colab_type": "code",
        "colab": {}
      },
      "cell_type": "code",
      "source": [
        "#tf.keras.backend.clear_session()"
      ],
      "execution_count": 0,
      "outputs": []
    },
    {
      "metadata": {
        "id": "tBaJlWajZm-Q",
        "colab_type": "code",
        "outputId": "12d17d87-b8f8-4599-b0c2-49984142aab0",
        "colab": {
          "base_uri": "https://localhost:8080/",
          "height": 110
        }
      },
      "cell_type": "code",
      "source": [
        "#Initialize Sequential model\n",
        "model = tf.keras.models.Sequential()\n",
        "#Reshape data from 2Dimensional to 1Dimensional -> 32x32 to 1024\n",
        "model.add(tf.keras.layers.Reshape((1024,),input_shape=(32,32,)))\n",
        "\n",
        "#Normalize the data\n",
        "model.add(tf.keras.layers.BatchNormalization())\n",
        "\n",
        "#Dense layer two\n",
        "model.add(tf.keras.layers.Dense(100, activation='relu'))\n",
        "\n",
        "#Dense layer two\n",
        "model.add(tf.keras.layers.Dense(200, activation='relu'))\n",
        "\n",
        "model.add(tf.keras.layers.Dense(10, activation='softmax'))\n",
        "\n",
        "from keras import optimizers\n",
        "sgd = optimizers.SGD(lr=0.001)\n",
        "model.compile(optimizer='sgd', loss='categorical_crossentropy', metrics=['accuracy'])"
      ],
      "execution_count": 0,
      "outputs": [
        {
          "output_type": "stream",
          "text": [
            "WARNING:tensorflow:From /usr/local/lib/python3.6/dist-packages/tensorflow/python/ops/resource_variable_ops.py:435: colocate_with (from tensorflow.python.framework.ops) is deprecated and will be removed in a future version.\n",
            "Instructions for updating:\n",
            "Colocations handled automatically by placer.\n"
          ],
          "name": "stdout"
        },
        {
          "output_type": "stream",
          "text": [
            "Using TensorFlow backend.\n"
          ],
          "name": "stderr"
        }
      ]
    },
    {
      "metadata": {
        "id": "US86w9NocVHb",
        "colab_type": "code",
        "outputId": "f416b4a0-2e6a-4a2c-d814-7ff5d34aee37",
        "colab": {
          "base_uri": "https://localhost:8080/",
          "height": 492
        }
      },
      "cell_type": "code",
      "source": [
        "model.fit(xtrain, ytrain, \n",
        "          validation_data=(xtest, ytest), \n",
        "          epochs=10\n",
        "          )"
      ],
      "execution_count": 0,
      "outputs": [
        {
          "output_type": "stream",
          "text": [
            "Train on 42000 samples, validate on 18000 samples\n",
            "WARNING:tensorflow:From /usr/local/lib/python3.6/dist-packages/tensorflow/python/ops/math_ops.py:3066: to_int32 (from tensorflow.python.ops.math_ops) is deprecated and will be removed in a future version.\n",
            "Instructions for updating:\n",
            "Use tf.cast instead.\n",
            "Epoch 1/10\n",
            "42000/42000 [==============================] - 7s 164us/sample - loss: 1.7377 - acc: 0.4245 - val_loss: 1.1969 - val_acc: 0.6368\n",
            "Epoch 2/10\n",
            "42000/42000 [==============================] - 6s 148us/sample - loss: 1.1377 - acc: 0.6470 - val_loss: 0.9718 - val_acc: 0.7073\n",
            "Epoch 3/10\n",
            "42000/42000 [==============================] - 6s 144us/sample - loss: 0.9723 - acc: 0.6991 - val_loss: 0.8703 - val_acc: 0.7405\n",
            "Epoch 4/10\n",
            "42000/42000 [==============================] - 6s 147us/sample - loss: 0.8777 - acc: 0.7318 - val_loss: 0.7735 - val_acc: 0.7734\n",
            "Epoch 5/10\n",
            "42000/42000 [==============================] - 6s 149us/sample - loss: 0.8142 - acc: 0.7493 - val_loss: 0.7472 - val_acc: 0.7818\n",
            "Epoch 6/10\n",
            "42000/42000 [==============================] - 6s 149us/sample - loss: 0.7623 - acc: 0.7650 - val_loss: 0.6996 - val_acc: 0.7977\n",
            "Epoch 7/10\n",
            "42000/42000 [==============================] - 6s 153us/sample - loss: 0.7278 - acc: 0.7747 - val_loss: 0.6858 - val_acc: 0.7988\n",
            "Epoch 8/10\n",
            "42000/42000 [==============================] - 6s 151us/sample - loss: 0.6923 - acc: 0.7848 - val_loss: 0.6675 - val_acc: 0.8076\n",
            "Epoch 9/10\n",
            "42000/42000 [==============================] - 6s 150us/sample - loss: 0.6654 - acc: 0.7948 - val_loss: 0.6380 - val_acc: 0.8147\n",
            "Epoch 10/10\n",
            "42000/42000 [==============================] - 6s 147us/sample - loss: 0.6431 - acc: 0.8018 - val_loss: 0.6148 - val_acc: 0.8228\n"
          ],
          "name": "stdout"
        },
        {
          "output_type": "execute_result",
          "data": {
            "text/plain": [
              "<tensorflow.python.keras.callbacks.History at 0x7f8591eeee48>"
            ]
          },
          "metadata": {
            "tags": []
          },
          "execution_count": 7
        }
      ]
    },
    {
      "metadata": {
        "id": "OIh4gC7fGRwA",
        "colab_type": "code",
        "colab": {}
      },
      "cell_type": "code",
      "source": [
        ""
      ],
      "execution_count": 0,
      "outputs": []
    }
  ]
}